{
 "cells": [
  {
   "cell_type": "code",
   "execution_count": 1,
   "metadata": {},
   "outputs": [],
   "source": [
    "#importing necessary libraries \n",
    "import pandas as pd \n",
    "import numpy as np\n",
    "import matplotlib.pyplot as plt\n",
    "import seaborn as sns \n",
    "import random\n",
    "import tensorflow as tf\n",
    "# Set the seeds for reproducibility\n",
    "np.random.seed(42)\n",
    "random.seed(42)\n",
    "tf.random.set_seed(42)\n",
    "#reading in dataset \n",
    "df = pd.read_csv('final_df.csv')\n",
    "df1 = df['close']"
   ]
  },
  {
   "cell_type": "code",
   "execution_count": 2,
   "metadata": {},
   "outputs": [
    {
     "data": {
      "text/plain": [
       "<seaborn.axisgrid.PairGrid at 0x1eb8c7fa3d0>"
      ]
     },
     "execution_count": 2,
     "metadata": {},
     "output_type": "execute_result"
    },
    {
     "data": {
      "image/png": "[encoded data removed]",
      "text/plain": [
       "<Figure size 250x250 with 2 Axes>"
      ]
     },
     "metadata": {},
     "output_type": "display_data"
    }
   ],
   "source": [
    "sns.pairplot(df)"
   ]
  },
  {
   "cell_type": "code",
   "execution_count": 3,
   "metadata": {},
   "outputs": [
    {
     "data": {
      "application/vnd.microsoft.datawrangler.viewer.v0+json": {
       "columns": [
        {
         "name": "index",
         "rawType": "int64",
         "type": "integer"
        },
        {
         "name": "close",
         "rawType": "float64",
         "type": "float"
        },
        {
         "name": "date",
         "rawType": "object",
         "type": "string"
        }
       ],
       "conversionMethod": "pd.DataFrame",
       "ref": "82458b77-355f-46f8-a891-7803645b3895",
       "rows": [
        [
         "0",
         "132.045",
         "2015-05-27"
        ],
        [
         "1",
         "131.78",
         "2015-05-28"
        ],
        [
         "2",
         "130.28",
         "2015-05-29"
        ],
        [
         "3",
         "130.535",
         "2015-06-01"
        ],
        [
         "4",
         "129.96",
         "2015-06-02"
        ],
        [
         "5",
         "130.12",
         "2015-06-03"
        ],
        [
         "6",
         "129.36",
         "2015-06-04"
        ],
        [
         "7",
         "128.65",
         "2015-06-05"
        ],
        [
         "8",
         "127.8",
         "2015-06-08"
        ],
        [
         "9",
         "127.42",
         "2015-06-09"
        ],
        [
         "10",
         "128.88",
         "2015-06-10"
        ],
        [
         "11",
         "128.59",
         "2015-06-11"
        ],
        [
         "12",
         "127.17",
         "2015-06-12"
        ],
        [
         "13",
         "126.92",
         "2015-06-15"
        ],
        [
         "14",
         "127.6",
         "2015-06-16"
        ],
        [
         "15",
         "127.3",
         "2015-06-17"
        ],
        [
         "16",
         "127.88",
         "2015-06-18"
        ],
        [
         "17",
         "126.6",
         "2015-06-19"
        ],
        [
         "18",
         "127.61",
         "2015-06-22"
        ],
        [
         "19",
         "127.03",
         "2015-06-23"
        ],
        [
         "20",
         "128.11",
         "2015-06-24"
        ],
        [
         "21",
         "127.5",
         "2015-06-25"
        ],
        [
         "22",
         "126.75",
         "2015-06-26"
        ],
        [
         "23",
         "124.53",
         "2015-06-29"
        ],
        [
         "24",
         "125.425",
         "2015-06-30"
        ],
        [
         "25",
         "126.6",
         "2015-07-01"
        ],
        [
         "26",
         "126.44",
         "2015-07-02"
        ],
        [
         "27",
         "126.0",
         "2015-07-06"
        ],
        [
         "28",
         "125.69",
         "2015-07-07"
        ],
        [
         "29",
         "122.57",
         "2015-07-08"
        ],
        [
         "30",
         "120.07",
         "2015-07-09"
        ],
        [
         "31",
         "123.28",
         "2015-07-10"
        ],
        [
         "32",
         "125.66",
         "2015-07-13"
        ],
        [
         "33",
         "125.61",
         "2015-07-14"
        ],
        [
         "34",
         "126.82",
         "2015-07-15"
        ],
        [
         "35",
         "128.51",
         "2015-07-16"
        ],
        [
         "36",
         "129.62",
         "2015-07-17"
        ],
        [
         "37",
         "132.07",
         "2015-07-20"
        ],
        [
         "38",
         "130.75",
         "2015-07-21"
        ],
        [
         "39",
         "125.22",
         "2015-07-22"
        ],
        [
         "40",
         "125.16",
         "2015-07-23"
        ],
        [
         "41",
         "124.5",
         "2015-07-24"
        ],
        [
         "42",
         "122.77",
         "2015-07-27"
        ],
        [
         "43",
         "123.38",
         "2015-07-28"
        ],
        [
         "44",
         "122.99",
         "2015-07-29"
        ],
        [
         "45",
         "122.37",
         "2015-07-30"
        ],
        [
         "46",
         "121.3",
         "2015-07-31"
        ],
        [
         "47",
         "118.44",
         "2015-08-03"
        ],
        [
         "48",
         "114.64",
         "2015-08-04"
        ],
        [
         "49",
         "115.4",
         "2015-08-05"
        ]
       ],
       "shape": {
        "columns": 2,
        "rows": 100
       }
      },
      "text/html": [
       "<div>\n",
       "<style scoped>\n",
       "    .dataframe tbody tr th:only-of-type {\n",
       "        vertical-align: middle;\n",
       "    }\n",
       "\n",
       "    .dataframe tbody tr th {\n",
       "        vertical-align: top;\n",
       "    }\n",
       "\n",
       "    .dataframe thead th {\n",
       "        text-align: right;\n",
       "    }\n",
       "</style>\n",
       "<table border=\"1\" class=\"dataframe\">\n",
       "  <thead>\n",
       "    <tr style=\"text-align: right;\">\n",
       "      <th></th>\n",
       "      <th>close</th>\n",
       "      <th>date</th>\n",
       "    </tr>\n",
       "  </thead>\n",
       "  <tbody>\n",
       "    <tr>\n",
       "      <th>0</th>\n",
       "      <td>132.045</td>\n",
       "      <td>2015-05-27</td>\n",
       "    </tr>\n",
       "    <tr>\n",
       "      <th>1</th>\n",
       "      <td>131.780</td>\n",
       "      <td>2015-05-28</td>\n",
       "    </tr>\n",
       "    <tr>\n",
       "      <th>2</th>\n",
       "      <td>130.280</td>\n",
       "      <td>2015-05-29</td>\n",
       "    </tr>\n",
       "    <tr>\n",
       "      <th>3</th>\n",
       "      <td>130.535</td>\n",
       "      <td>2015-06-01</td>\n",
       "    </tr>\n",
       "    <tr>\n",
       "      <th>4</th>\n",
       "      <td>129.960</td>\n",
       "      <td>2015-06-02</td>\n",
       "    </tr>\n",
       "    <tr>\n",
       "      <th>...</th>\n",
       "      <td>...</td>\n",
       "      <td>...</td>\n",
       "    </tr>\n",
       "    <tr>\n",
       "      <th>95</th>\n",
       "      <td>112.120</td>\n",
       "      <td>2015-10-09</td>\n",
       "    </tr>\n",
       "    <tr>\n",
       "      <th>96</th>\n",
       "      <td>111.600</td>\n",
       "      <td>2015-10-12</td>\n",
       "    </tr>\n",
       "    <tr>\n",
       "      <th>97</th>\n",
       "      <td>111.790</td>\n",
       "      <td>2015-10-13</td>\n",
       "    </tr>\n",
       "    <tr>\n",
       "      <th>98</th>\n",
       "      <td>110.210</td>\n",
       "      <td>2015-10-14</td>\n",
       "    </tr>\n",
       "    <tr>\n",
       "      <th>99</th>\n",
       "      <td>111.860</td>\n",
       "      <td>2015-10-15</td>\n",
       "    </tr>\n",
       "  </tbody>\n",
       "</table>\n",
       "<p>100 rows × 2 columns</p>\n",
       "</div>"
      ],
      "text/plain": [
       "      close        date\n",
       "0   132.045  2015-05-27\n",
       "1   131.780  2015-05-28\n",
       "2   130.280  2015-05-29\n",
       "3   130.535  2015-06-01\n",
       "4   129.960  2015-06-02\n",
       "..      ...         ...\n",
       "95  112.120  2015-10-09\n",
       "96  111.600  2015-10-12\n",
       "97  111.790  2015-10-13\n",
       "98  110.210  2015-10-14\n",
       "99  111.860  2015-10-15\n",
       "\n",
       "[100 rows x 2 columns]"
      ]
     },
     "execution_count": 3,
     "metadata": {},
     "output_type": "execute_result"
    }
   ],
   "source": [
    "df.head(100)"
   ]
  },
  {
   "cell_type": "code",
   "execution_count": 4,
   "metadata": {},
   "outputs": [
    {
     "name": "stdout",
     "output_type": "stream",
     "text": [
      "(2456, 1)\n",
      "[[0.10031269]\n",
      " [0.09967529]\n",
      " [0.09606735]\n",
      " ...\n",
      " [0.36084185]\n",
      " [0.35348166]\n",
      " [0.36440168]]\n"
     ]
    }
   ],
   "source": [
    "#LSTM's are sensitive to the scale of the data and because the distrbution is not Gaussian, MinMaxScaler wll be implemented \n",
    "from sklearn.preprocessing import MinMaxScaler\n",
    "scaler = MinMaxScaler(feature_range=(0,1))\n",
    "df1 = scaler.fit_transform(np.array(df1).reshape(-1,1))\n",
    "\n",
    "print(df1.shape)\n",
    "print(df1)"
   ]
  },
  {
   "cell_type": "code",
   "execution_count": 5,
   "metadata": {},
   "outputs": [
    {
     "name": "stdout",
     "output_type": "stream",
     "text": [
      "1596 860\n"
     ]
    }
   ],
   "source": [
    "# splitting data into training and testing \n",
    "training_size = int(len(df1)*0.65)\n",
    "test_size = len(df1) -training_size\n",
    "train_data, test_data = df1[0:training_size],df1[training_size:len(df1),:1]\n",
    "\n",
    "print(training_size, test_size)\n",
    "#print(train_data, test_data)"
   ]
  },
  {
   "cell_type": "code",
   "execution_count": 6,
   "metadata": {},
   "outputs": [],
   "source": [
    "# convert an array of values into a dataset matrix \n",
    "def create_dataset(dataset,time_step =1):\n",
    "    dataX,dataY = [],[]\n",
    "    for i in range(len(dataset)-time_step-1):\n",
    "        a = dataset[i:(i+time_step),0]\n",
    "        dataX.append(a)\n",
    "        dataY.append(dataset[i +time_step,0])\n",
    "    return np.array(dataX),np.array(dataY)"
   ]
  },
  {
   "cell_type": "code",
   "execution_count": 7,
   "metadata": {},
   "outputs": [],
   "source": [
    "#Reshape into X = t, t+1, t+2,t+3 and Y= t+4 \n",
    "time_step = 100\n",
    "X_train, y_train= create_dataset(train_data,time_step)\n",
    "X_test,y_test = create_dataset(test_data,time_step)"
   ]
  },
  {
   "cell_type": "code",
   "execution_count": 8,
   "metadata": {},
   "outputs": [
    {
     "data": {
      "text/plain": [
       "((1495, 100), (1495,), (759, 100), (759,))"
      ]
     },
     "execution_count": 8,
     "metadata": {},
     "output_type": "execute_result"
    }
   ],
   "source": [
    "X_train.shape, y_train.shape, X_test.shape,y_test.shape"
   ]
  },
  {
   "cell_type": "code",
   "execution_count": 9,
   "metadata": {},
   "outputs": [
    {
     "name": "stdout",
     "output_type": "stream",
     "text": [
      "(1495, 100, 1)\n",
      "(759, 100, 1)\n"
     ]
    },
    {
     "data": {
      "text/plain": [
       "(None, None)"
      ]
     },
     "execution_count": 9,
     "metadata": {},
     "output_type": "execute_result"
    }
   ],
   "source": [
    "# reshape the data \n",
    "X_train = X_train.reshape(X_train.shape[0],X_train.shape[1],1)\n",
    "X_test = X_test.reshape(X_test.shape[0],X_test.shape[1],1)\n",
    "\n",
    "print(X_train.shape), print(X_test.shape)"
   ]
  },
  {
   "cell_type": "markdown",
   "metadata": {},
   "source": [
    "# LSTM1\n"
   ]
  },
  {
   "cell_type": "code",
   "execution_count": 10,
   "metadata": {},
   "outputs": [],
   "source": [
    "# importing libraries \n",
    "from tensorflow.keras.models import Sequential\n",
    "from tensorflow.keras.layers import Dense \n",
    "from tensorflow.keras.layers import LSTM\n"
   ]
  },
  {
   "cell_type": "code",
   "execution_count": 11,
   "metadata": {},
   "outputs": [
    {
     "name": "stderr",
     "output_type": "stream",
     "text": [
      "c:\\Users\\andre\\anaconda3\\Lib\\site-packages\\keras\\src\\layers\\rnn\\rnn.py:200: UserWarning: Do not pass an `input_shape`/`input_dim` argument to a layer. When using Sequential models, prefer using an `Input(shape)` object as the first layer in the model instead.\n",
      "  super().__init__(**kwargs)\n"
     ]
    },
    {
     "data": {
      "text/html": [
       "<pre style=\"white-space:pre;overflow-x:auto;line-height:normal;font-family:Menlo,'DejaVu Sans Mono',consolas,'Courier New',monospace\"><span style=\"font-weight: bold\">Model: \"sequential\"</span>\n",
       "</pre>\n"
      ],
      "text/plain": [
       "\u001b[1mModel: \"sequential\"\u001b[0m\n"
      ]
     },
     "metadata": {},
     "output_type": "display_data"
    },
    {
     "data": {
      "text/html": [
       "<pre style=\"white-space:pre;overflow-x:auto;line-height:normal;font-family:Menlo,'DejaVu Sans Mono',consolas,'Courier New',monospace\">┏━━━━━━━━━━━━━━━━━━━━━━━━━━━━━━━━━┳━━━━━━━━━━━━━━━━━━━━━━━━┳━━━━━━━━━━━━━━━┓\n",
       "┃<span style=\"font-weight: bold\"> Layer (type)                    </span>┃<span style=\"font-weight: bold\"> Output Shape           </span>┃<span style=\"font-weight: bold\">       Param # </span>┃\n",
       "┡━━━━━━━━━━━━━━━━━━━━━━━━━━━━━━━━━╇━━━━━━━━━━━━━━━━━━━━━━━━╇━━━━━━━━━━━━━━━┩\n",
       "│ lstm (<span style=\"color: #0087ff; text-decoration-color: #0087ff\">LSTM</span>)                     │ (<span style=\"color: #00d7ff; text-decoration-color: #00d7ff\">None</span>, <span style=\"color: #00af00; text-decoration-color: #00af00\">100</span>, <span style=\"color: #00af00; text-decoration-color: #00af00\">50</span>)        │        <span style=\"color: #00af00; text-decoration-color: #00af00\">10,400</span> │\n",
       "├─────────────────────────────────┼────────────────────────┼───────────────┤\n",
       "│ lstm_1 (<span style=\"color: #0087ff; text-decoration-color: #0087ff\">LSTM</span>)                   │ (<span style=\"color: #00d7ff; text-decoration-color: #00d7ff\">None</span>, <span style=\"color: #00af00; text-decoration-color: #00af00\">100</span>, <span style=\"color: #00af00; text-decoration-color: #00af00\">50</span>)        │        <span style=\"color: #00af00; text-decoration-color: #00af00\">20,200</span> │\n",
       "├─────────────────────────────────┼────────────────────────┼───────────────┤\n",
       "│ lstm_2 (<span style=\"color: #0087ff; text-decoration-color: #0087ff\">LSTM</span>)                   │ (<span style=\"color: #00d7ff; text-decoration-color: #00d7ff\">None</span>, <span style=\"color: #00af00; text-decoration-color: #00af00\">100</span>, <span style=\"color: #00af00; text-decoration-color: #00af00\">50</span>)        │        <span style=\"color: #00af00; text-decoration-color: #00af00\">20,200</span> │\n",
       "├─────────────────────────────────┼────────────────────────┼───────────────┤\n",
       "│ lstm_3 (<span style=\"color: #0087ff; text-decoration-color: #0087ff\">LSTM</span>)                   │ (<span style=\"color: #00d7ff; text-decoration-color: #00d7ff\">None</span>, <span style=\"color: #00af00; text-decoration-color: #00af00\">50</span>)             │        <span style=\"color: #00af00; text-decoration-color: #00af00\">20,200</span> │\n",
       "├─────────────────────────────────┼────────────────────────┼───────────────┤\n",
       "│ dense (<span style=\"color: #0087ff; text-decoration-color: #0087ff\">Dense</span>)                   │ (<span style=\"color: #00d7ff; text-decoration-color: #00d7ff\">None</span>, <span style=\"color: #00af00; text-decoration-color: #00af00\">1</span>)              │            <span style=\"color: #00af00; text-decoration-color: #00af00\">51</span> │\n",
       "└─────────────────────────────────┴────────────────────────┴───────────────┘\n",
       "</pre>\n"
      ],
      "text/plain": [
       "┏━━━━━━━━━━━━━━━━━━━━━━━━━━━━━━━━━┳━━━━━━━━━━━━━━━━━━━━━━━━┳━━━━━━━━━━━━━━━┓\n",
       "┃\u001b[1m \u001b[0m\u001b[1mLayer (type)                   \u001b[0m\u001b[1m \u001b[0m┃\u001b[1m \u001b[0m\u001b[1mOutput Shape          \u001b[0m\u001b[1m \u001b[0m┃\u001b[1m \u001b[0m\u001b[1m      Param #\u001b[0m\u001b[1m \u001b[0m┃\n",
       "┡━━━━━━━━━━━━━━━━━━━━━━━━━━━━━━━━━╇━━━━━━━━━━━━━━━━━━━━━━━━╇━━━━━━━━━━━━━━━┩\n",
       "│ lstm (\u001b[38;5;33mLSTM\u001b[0m)                     │ (\u001b[38;5;45mNone\u001b[0m, \u001b[38;5;34m100\u001b[0m, \u001b[38;5;34m50\u001b[0m)        │        \u001b[38;5;34m10,400\u001b[0m │\n",
       "├─────────────────────────────────┼────────────────────────┼───────────────┤\n",
       "│ lstm_1 (\u001b[38;5;33mLSTM\u001b[0m)                   │ (\u001b[38;5;45mNone\u001b[0m, \u001b[38;5;34m100\u001b[0m, \u001b[38;5;34m50\u001b[0m)        │        \u001b[38;5;34m20,200\u001b[0m │\n",
       "├─────────────────────────────────┼────────────────────────┼───────────────┤\n",
       "│ lstm_2 (\u001b[38;5;33mLSTM\u001b[0m)                   │ (\u001b[38;5;45mNone\u001b[0m, \u001b[38;5;34m100\u001b[0m, \u001b[38;5;34m50\u001b[0m)        │        \u001b[38;5;34m20,200\u001b[0m │\n",
       "├─────────────────────────────────┼────────────────────────┼───────────────┤\n",
       "│ lstm_3 (\u001b[38;5;33mLSTM\u001b[0m)                   │ (\u001b[38;5;45mNone\u001b[0m, \u001b[38;5;34m50\u001b[0m)             │        \u001b[38;5;34m20,200\u001b[0m │\n",
       "├─────────────────────────────────┼────────────────────────┼───────────────┤\n",
       "│ dense (\u001b[38;5;33mDense\u001b[0m)                   │ (\u001b[38;5;45mNone\u001b[0m, \u001b[38;5;34m1\u001b[0m)              │            \u001b[38;5;34m51\u001b[0m │\n",
       "└─────────────────────────────────┴────────────────────────┴───────────────┘\n"
      ]
     },
     "metadata": {},
     "output_type": "display_data"
    },
    {
     "data": {
      "text/html": [
       "<pre style=\"white-space:pre;overflow-x:auto;line-height:normal;font-family:Menlo,'DejaVu Sans Mono',consolas,'Courier New',monospace\"><span style=\"font-weight: bold\"> Total params: </span><span style=\"color: #00af00; text-decoration-color: #00af00\">71,051</span> (277.54 KB)\n",
       "</pre>\n"
      ],
      "text/plain": [
       "\u001b[1m Total params: \u001b[0m\u001b[38;5;34m71,051\u001b[0m (277.54 KB)\n"
      ]
     },
     "metadata": {},
     "output_type": "display_data"
    },
    {
     "data": {
      "text/html": [
       "<pre style=\"white-space:pre;overflow-x:auto;line-height:normal;font-family:Menlo,'DejaVu Sans Mono',consolas,'Courier New',monospace\"><span style=\"font-weight: bold\"> Trainable params: </span><span style=\"color: #00af00; text-decoration-color: #00af00\">71,051</span> (277.54 KB)\n",
       "</pre>\n"
      ],
      "text/plain": [
       "\u001b[1m Trainable params: \u001b[0m\u001b[38;5;34m71,051\u001b[0m (277.54 KB)\n"
      ]
     },
     "metadata": {},
     "output_type": "display_data"
    },
    {
     "data": {
      "text/html": [
       "<pre style=\"white-space:pre;overflow-x:auto;line-height:normal;font-family:Menlo,'DejaVu Sans Mono',consolas,'Courier New',monospace\"><span style=\"font-weight: bold\"> Non-trainable params: </span><span style=\"color: #00af00; text-decoration-color: #00af00\">0</span> (0.00 B)\n",
       "</pre>\n"
      ],
      "text/plain": [
       "\u001b[1m Non-trainable params: \u001b[0m\u001b[38;5;34m0\u001b[0m (0.00 B)\n"
      ]
     },
     "metadata": {},
     "output_type": "display_data"
    }
   ],
   "source": [
    "#Building the model ,LSTM uses sigmoid and tanh as activation functions \n",
    "# Added in one more layers than the RNN \n",
    "stack_model = Sequential()\n",
    "stack_model.add(LSTM(50,return_sequences=True,input_shape=(X_train.shape[1],1)))\n",
    "stack_model.add(LSTM(50,return_sequences=True))\n",
    "stack_model.add(LSTM(50,return_sequences=True))\n",
    "stack_model.add(LSTM(50))\n",
    "stack_model.add(Dense(1))\n",
    "stack_model.compile(loss = \"mean_squared_error\", optimizer = \"adam\",metrics = ['mae','mse'])\n",
    "\n",
    "stack_model.summary()"
   ]
  },
  {
   "cell_type": "code",
   "execution_count": 12,
   "metadata": {},
   "outputs": [
    {
     "name": "stdout",
     "output_type": "stream",
     "text": [
      "Training with epochs=50 and batch_size=64\n",
      "Epoch 1/50\n",
      "\u001b[1m24/24\u001b[0m \u001b[32m━━━━━━━━━━━━━━━━━━━━\u001b[0m\u001b[37m\u001b[0m \u001b[1m8s\u001b[0m 131ms/step - loss: 0.0253 - mae: 0.1082 - mse: 0.0253 - val_loss: 5.5217e-04 - val_mae: 0.0193 - val_mse: 5.5217e-04\n",
      "Epoch 2/50\n",
      "\u001b[1m24/24\u001b[0m \u001b[32m━━━━━━━━━━━━━━━━━━━━\u001b[0m\u001b[37m\u001b[0m \u001b[1m2s\u001b[0m 100ms/step - loss: 0.0066 - mae: 0.0377 - mse: 0.0066 - val_loss: 0.0014 - val_mae: 0.0310 - val_mse: 0.0014\n",
      "Epoch 3/50\n",
      "\u001b[1m24/24\u001b[0m \u001b[32m━━━━━━━━━━━━━━━━━━━━\u001b[0m\u001b[37m\u001b[0m \u001b[1m2s\u001b[0m 102ms/step - loss: 0.0055 - mae: 0.0323 - mse: 0.0055 - val_loss: 0.0024 - val_mae: 0.0434 - val_mse: 0.0024\n",
      "Epoch 4/50\n",
      "\u001b[1m24/24\u001b[0m \u001b[32m━━━━━━━━━━━━━━━━━━━━\u001b[0m\u001b[37m\u001b[0m \u001b[1m2s\u001b[0m 101ms/step - loss: 0.0049 - mae: 0.0334 - mse: 0.0049 - val_loss: 0.0033 - val_mae: 0.0508 - val_mse: 0.0033\n",
      "Epoch 5/50\n",
      "\u001b[1m24/24\u001b[0m \u001b[32m━━━━━━━━━━━━━━━━━━━━\u001b[0m\u001b[37m\u001b[0m \u001b[1m2s\u001b[0m 101ms/step - loss: 0.0046 - mae: 0.0362 - mse: 0.0046 - val_loss: 0.0027 - val_mae: 0.0455 - val_mse: 0.0027\n",
      "Epoch 6/50\n",
      "\u001b[1m24/24\u001b[0m \u001b[32m━━━━━━━━━━━━━━━━━━━━\u001b[0m\u001b[37m\u001b[0m \u001b[1m2s\u001b[0m 101ms/step - loss: 0.0038 - mae: 0.0334 - mse: 0.0038 - val_loss: 0.0021 - val_mae: 0.0391 - val_mse: 0.0021\n",
      "Epoch 7/50\n",
      "\u001b[1m24/24\u001b[0m \u001b[32m━━━━━━━━━━━━━━━━━━━━\u001b[0m\u001b[37m\u001b[0m \u001b[1m2s\u001b[0m 101ms/step - loss: 0.0030 - mae: 0.0307 - mse: 0.0030 - val_loss: 0.0016 - val_mae: 0.0334 - val_mse: 0.0016\n",
      "Epoch 8/50\n",
      "\u001b[1m24/24\u001b[0m \u001b[32m━━━━━━━━━━━━━━━━━━━━\u001b[0m\u001b[37m\u001b[0m \u001b[1m2s\u001b[0m 104ms/step - loss: 0.0023 - mae: 0.0278 - mse: 0.0023 - val_loss: 8.5444e-04 - val_mae: 0.0240 - val_mse: 8.5444e-04\n",
      "Epoch 9/50\n",
      "\u001b[1m24/24\u001b[0m \u001b[32m━━━━━━━━━━━━━━━━━━━━\u001b[0m\u001b[37m\u001b[0m \u001b[1m2s\u001b[0m 103ms/step - loss: 0.0019 - mae: 0.0258 - mse: 0.0019 - val_loss: 3.2114e-04 - val_mae: 0.0146 - val_mse: 3.2114e-04\n",
      "Epoch 10/50\n",
      "\u001b[1m24/24\u001b[0m \u001b[32m━━━━━━━━━━━━━━━━━━━━\u001b[0m\u001b[37m\u001b[0m \u001b[1m2s\u001b[0m 99ms/step - loss: 0.0016 - mae: 0.0221 - mse: 0.0016 - val_loss: 3.4245e-04 - val_mae: 0.0151 - val_mse: 3.4245e-04\n",
      "Epoch 11/50\n",
      "\u001b[1m24/24\u001b[0m \u001b[32m━━━━━━━━━━━━━━━━━━━━\u001b[0m\u001b[37m\u001b[0m \u001b[1m2s\u001b[0m 101ms/step - loss: 0.0014 - mae: 0.0206 - mse: 0.0014 - val_loss: 3.4081e-04 - val_mae: 0.0151 - val_mse: 3.4081e-04\n",
      "Epoch 12/50\n",
      "\u001b[1m24/24\u001b[0m \u001b[32m━━━━━━━━━━━━━━━━━━━━\u001b[0m\u001b[37m\u001b[0m \u001b[1m3s\u001b[0m 107ms/step - loss: 0.0013 - mae: 0.0201 - mse: 0.0013 - val_loss: 3.6486e-04 - val_mae: 0.0156 - val_mse: 3.6486e-04\n",
      "Epoch 13/50\n",
      "\u001b[1m24/24\u001b[0m \u001b[32m━━━━━━━━━━━━━━━━━━━━\u001b[0m\u001b[37m\u001b[0m \u001b[1m3s\u001b[0m 104ms/step - loss: 0.0015 - mae: 0.0201 - mse: 0.0015 - val_loss: 3.6721e-04 - val_mae: 0.0156 - val_mse: 3.6721e-04\n",
      "Epoch 14/50\n",
      "\u001b[1m24/24\u001b[0m \u001b[32m━━━━━━━━━━━━━━━━━━━━\u001b[0m\u001b[37m\u001b[0m \u001b[1m2s\u001b[0m 101ms/step - loss: 0.0018 - mae: 0.0212 - mse: 0.0018 - val_loss: 6.6667e-04 - val_mae: 0.0208 - val_mse: 6.6667e-04\n",
      "Epoch 15/50\n",
      "\u001b[1m24/24\u001b[0m \u001b[32m━━━━━━━━━━━━━━━━━━━━\u001b[0m\u001b[37m\u001b[0m \u001b[1m2s\u001b[0m 100ms/step - loss: 0.0013 - mae: 0.0228 - mse: 0.0013 - val_loss: 2.8163e-04 - val_mae: 0.0138 - val_mse: 2.8163e-04\n",
      "Epoch 16/50\n",
      "\u001b[1m24/24\u001b[0m \u001b[32m━━━━━━━━━━━━━━━━━━━━\u001b[0m\u001b[37m\u001b[0m \u001b[1m3s\u001b[0m 104ms/step - loss: 0.0017 - mae: 0.0208 - mse: 0.0017 - val_loss: 3.4966e-04 - val_mae: 0.0151 - val_mse: 3.4966e-04\n",
      "Epoch 17/50\n",
      "\u001b[1m24/24\u001b[0m \u001b[32m━━━━━━━━━━━━━━━━━━━━\u001b[0m\u001b[37m\u001b[0m \u001b[1m3s\u001b[0m 106ms/step - loss: 0.0012 - mae: 0.0184 - mse: 0.0012 - val_loss: 8.7850e-04 - val_mae: 0.0256 - val_mse: 8.7850e-04\n",
      "Epoch 18/50\n",
      "\u001b[1m24/24\u001b[0m \u001b[32m━━━━━━━━━━━━━━━━━━━━\u001b[0m\u001b[37m\u001b[0m \u001b[1m3s\u001b[0m 117ms/step - loss: 0.0014 - mae: 0.0219 - mse: 0.0014 - val_loss: 3.0692e-04 - val_mae: 0.0143 - val_mse: 3.0692e-04\n",
      "Epoch 19/50\n",
      "\u001b[1m24/24\u001b[0m \u001b[32m━━━━━━━━━━━━━━━━━━━━\u001b[0m\u001b[37m\u001b[0m \u001b[1m3s\u001b[0m 105ms/step - loss: 0.0011 - mae: 0.0191 - mse: 0.0011 - val_loss: 4.0357e-04 - val_mae: 0.0162 - val_mse: 4.0357e-04\n",
      "Epoch 20/50\n",
      "\u001b[1m24/24\u001b[0m \u001b[32m━━━━━━━━━━━━━━━━━━━━\u001b[0m\u001b[37m\u001b[0m \u001b[1m2s\u001b[0m 101ms/step - loss: 0.0012 - mae: 0.0202 - mse: 0.0012 - val_loss: 8.8886e-04 - val_mae: 0.0254 - val_mse: 8.8886e-04\n",
      "Epoch 21/50\n",
      "\u001b[1m24/24\u001b[0m \u001b[32m━━━━━━━━━━━━━━━━━━━━\u001b[0m\u001b[37m\u001b[0m \u001b[1m2s\u001b[0m 103ms/step - loss: 0.0018 - mae: 0.0238 - mse: 0.0018 - val_loss: 3.3439e-04 - val_mae: 0.0150 - val_mse: 3.3439e-04\n",
      "Epoch 22/50\n",
      "\u001b[1m24/24\u001b[0m \u001b[32m━━━━━━━━━━━━━━━━━━━━\u001b[0m\u001b[37m\u001b[0m \u001b[1m3s\u001b[0m 107ms/step - loss: 0.0011 - mae: 0.0183 - mse: 0.0011 - val_loss: 3.4378e-04 - val_mae: 0.0152 - val_mse: 3.4378e-04\n",
      "Epoch 23/50\n",
      "\u001b[1m24/24\u001b[0m \u001b[32m━━━━━━━━━━━━━━━━━━━━\u001b[0m\u001b[37m\u001b[0m \u001b[1m2s\u001b[0m 103ms/step - loss: 0.0012 - mae: 0.0202 - mse: 0.0012 - val_loss: 6.4127e-04 - val_mae: 0.0203 - val_mse: 6.4127e-04\n",
      "Epoch 24/50\n",
      "\u001b[1m24/24\u001b[0m \u001b[32m━━━━━━━━━━━━━━━━━━━━\u001b[0m\u001b[37m\u001b[0m \u001b[1m3s\u001b[0m 110ms/step - loss: 0.0016 - mae: 0.0217 - mse: 0.0016 - val_loss: 0.0011 - val_mae: 0.0264 - val_mse: 0.0011\n",
      "Epoch 25/50\n",
      "\u001b[1m24/24\u001b[0m \u001b[32m━━━━━━━━━━━━━━━━━━━━\u001b[0m\u001b[37m\u001b[0m \u001b[1m3s\u001b[0m 110ms/step - loss: 0.0013 - mae: 0.0231 - mse: 0.0013 - val_loss: 6.6614e-04 - val_mae: 0.0207 - val_mse: 6.6614e-04\n",
      "Epoch 26/50\n",
      "\u001b[1m24/24\u001b[0m \u001b[32m━━━━━━━━━━━━━━━━━━━━\u001b[0m\u001b[37m\u001b[0m \u001b[1m3s\u001b[0m 105ms/step - loss: 0.0011 - mae: 0.0206 - mse: 0.0011 - val_loss: 5.9626e-04 - val_mae: 0.0197 - val_mse: 5.9626e-04\n",
      "Epoch 27/50\n",
      "\u001b[1m24/24\u001b[0m \u001b[32m━━━━━━━━━━━━━━━━━━━━\u001b[0m\u001b[37m\u001b[0m \u001b[1m2s\u001b[0m 102ms/step - loss: 0.0011 - mae: 0.0200 - mse: 0.0011 - val_loss: 5.5399e-04 - val_mae: 0.0189 - val_mse: 5.5399e-04\n",
      "Epoch 28/50\n",
      "\u001b[1m24/24\u001b[0m \u001b[32m━━━━━━━━━━━━━━━━━━━━\u001b[0m\u001b[37m\u001b[0m \u001b[1m2s\u001b[0m 104ms/step - loss: 0.0011 - mae: 0.0192 - mse: 0.0011 - val_loss: 6.0593e-04 - val_mae: 0.0199 - val_mse: 6.0593e-04\n",
      "Epoch 29/50\n",
      "\u001b[1m24/24\u001b[0m \u001b[32m━━━━━━━━━━━━━━━━━━━━\u001b[0m\u001b[37m\u001b[0m \u001b[1m2s\u001b[0m 101ms/step - loss: 0.0011 - mae: 0.0201 - mse: 0.0011 - val_loss: 7.1884e-04 - val_mae: 0.0217 - val_mse: 7.1884e-04\n",
      "Epoch 30/50\n",
      "\u001b[1m24/24\u001b[0m \u001b[32m━━━━━━━━━━━━━━━━━━━━\u001b[0m\u001b[37m\u001b[0m \u001b[1m2s\u001b[0m 98ms/step - loss: 0.0012 - mae: 0.0205 - mse: 0.0012 - val_loss: 6.4620e-04 - val_mae: 0.0206 - val_mse: 6.4620e-04\n",
      "Epoch 31/50\n",
      "\u001b[1m24/24\u001b[0m \u001b[32m━━━━━━━━━━━━━━━━━━━━\u001b[0m\u001b[37m\u001b[0m \u001b[1m3s\u001b[0m 107ms/step - loss: 0.0013 - mae: 0.0211 - mse: 0.0013 - val_loss: 8.1562e-04 - val_mae: 0.0231 - val_mse: 8.1562e-04\n",
      "Epoch 32/50\n",
      "\u001b[1m24/24\u001b[0m \u001b[32m━━━━━━━━━━━━━━━━━━━━\u001b[0m\u001b[37m\u001b[0m \u001b[1m3s\u001b[0m 110ms/step - loss: 0.0012 - mae: 0.0203 - mse: 0.0012 - val_loss: 7.8264e-04 - val_mae: 0.0226 - val_mse: 7.8264e-04\n",
      "Epoch 33/50\n",
      "\u001b[1m24/24\u001b[0m \u001b[32m━━━━━━━━━━━━━━━━━━━━\u001b[0m\u001b[37m\u001b[0m \u001b[1m3s\u001b[0m 107ms/step - loss: 0.0010 - mae: 0.0199 - mse: 0.0010 - val_loss: 4.0089e-04 - val_mae: 0.0159 - val_mse: 4.0089e-04\n",
      "Epoch 34/50\n",
      "\u001b[1m24/24\u001b[0m \u001b[32m━━━━━━━━━━━━━━━━━━━━\u001b[0m\u001b[37m\u001b[0m \u001b[1m3s\u001b[0m 108ms/step - loss: 0.0012 - mae: 0.0179 - mse: 0.0012 - val_loss: 5.9218e-04 - val_mae: 0.0195 - val_mse: 5.9218e-04\n",
      "Epoch 35/50\n",
      "\u001b[1m24/24\u001b[0m \u001b[32m━━━━━━━━━━━━━━━━━━━━\u001b[0m\u001b[37m\u001b[0m \u001b[1m3s\u001b[0m 117ms/step - loss: 0.0019 - mae: 0.0207 - mse: 0.0019 - val_loss: 5.6090e-04 - val_mae: 0.0190 - val_mse: 5.6090e-04\n",
      "Epoch 36/50\n",
      "\u001b[1m24/24\u001b[0m \u001b[32m━━━━━━━━━━━━━━━━━━━━\u001b[0m\u001b[37m\u001b[0m \u001b[1m3s\u001b[0m 120ms/step - loss: 0.0012 - mae: 0.0196 - mse: 0.0012 - val_loss: 2.8523e-04 - val_mae: 0.0135 - val_mse: 2.8523e-04\n",
      "Epoch 37/50\n",
      "\u001b[1m24/24\u001b[0m \u001b[32m━━━━━━━━━━━━━━━━━━━━\u001b[0m\u001b[37m\u001b[0m \u001b[1m3s\u001b[0m 117ms/step - loss: 0.0015 - mae: 0.0176 - mse: 0.0015 - val_loss: 6.1351e-04 - val_mae: 0.0195 - val_mse: 6.1351e-04\n",
      "Epoch 38/50\n",
      "\u001b[1m24/24\u001b[0m \u001b[32m━━━━━━━━━━━━━━━━━━━━\u001b[0m\u001b[37m\u001b[0m \u001b[1m3s\u001b[0m 137ms/step - loss: 0.0017 - mae: 0.0253 - mse: 0.0017 - val_loss: 4.1782e-04 - val_mae: 0.0162 - val_mse: 4.1782e-04\n",
      "Epoch 39/50\n",
      "\u001b[1m24/24\u001b[0m \u001b[32m━━━━━━━━━━━━━━━━━━━━\u001b[0m\u001b[37m\u001b[0m \u001b[1m3s\u001b[0m 129ms/step - loss: 0.0014 - mae: 0.0220 - mse: 0.0014 - val_loss: 4.0276e-04 - val_mae: 0.0159 - val_mse: 4.0276e-04\n",
      "Epoch 40/50\n",
      "\u001b[1m24/24\u001b[0m \u001b[32m━━━━━━━━━━━━━━━━━━━━\u001b[0m\u001b[37m\u001b[0m \u001b[1m3s\u001b[0m 122ms/step - loss: 0.0015 - mae: 0.0221 - mse: 0.0015 - val_loss: 8.5180e-04 - val_mae: 0.0233 - val_mse: 8.5180e-04\n",
      "Epoch 41/50\n",
      "\u001b[1m24/24\u001b[0m \u001b[32m━━━━━━━━━━━━━━━━━━━━\u001b[0m\u001b[37m\u001b[0m \u001b[1m3s\u001b[0m 135ms/step - loss: 0.0013 - mae: 0.0221 - mse: 0.0013 - val_loss: 5.1550e-04 - val_mae: 0.0181 - val_mse: 5.1550e-04\n",
      "Epoch 42/50\n",
      "\u001b[1m24/24\u001b[0m \u001b[32m━━━━━━━━━━━━━━━━━━━━\u001b[0m\u001b[37m\u001b[0m \u001b[1m3s\u001b[0m 123ms/step - loss: 0.0014 - mae: 0.0200 - mse: 0.0014 - val_loss: 5.9897e-04 - val_mae: 0.0195 - val_mse: 5.9897e-04\n",
      "Epoch 43/50\n",
      "\u001b[1m24/24\u001b[0m \u001b[32m━━━━━━━━━━━━━━━━━━━━\u001b[0m\u001b[37m\u001b[0m \u001b[1m3s\u001b[0m 130ms/step - loss: 0.0011 - mae: 0.0196 - mse: 0.0011 - val_loss: 4.8072e-04 - val_mae: 0.0175 - val_mse: 4.8072e-04\n",
      "Epoch 44/50\n",
      "\u001b[1m24/24\u001b[0m \u001b[32m━━━━━━━━━━━━━━━━━━━━\u001b[0m\u001b[37m\u001b[0m \u001b[1m3s\u001b[0m 126ms/step - loss: 0.0010 - mae: 0.0184 - mse: 0.0010 - val_loss: 3.1583e-04 - val_mae: 0.0142 - val_mse: 3.1583e-04\n",
      "Epoch 45/50\n",
      "\u001b[1m24/24\u001b[0m \u001b[32m━━━━━━━━━━━━━━━━━━━━\u001b[0m\u001b[37m\u001b[0m \u001b[1m3s\u001b[0m 127ms/step - loss: 0.0012 - mae: 0.0178 - mse: 0.0012 - val_loss: 5.5071e-04 - val_mae: 0.0187 - val_mse: 5.5071e-04\n",
      "Epoch 46/50\n",
      "\u001b[1m24/24\u001b[0m \u001b[32m━━━━━━━━━━━━━━━━━━━━\u001b[0m\u001b[37m\u001b[0m \u001b[1m3s\u001b[0m 123ms/step - loss: 0.0012 - mae: 0.0196 - mse: 0.0012 - val_loss: 5.4018e-04 - val_mae: 0.0185 - val_mse: 5.4018e-04\n",
      "Epoch 47/50\n",
      "\u001b[1m24/24\u001b[0m \u001b[32m━━━━━━━━━━━━━━━━━━━━\u001b[0m\u001b[37m\u001b[0m \u001b[1m3s\u001b[0m 121ms/step - loss: 0.0011 - mae: 0.0192 - mse: 0.0011 - val_loss: 3.9368e-04 - val_mae: 0.0157 - val_mse: 3.9368e-04\n",
      "Epoch 48/50\n",
      "\u001b[1m24/24\u001b[0m \u001b[32m━━━━━━━━━━━━━━━━━━━━\u001b[0m\u001b[37m\u001b[0m \u001b[1m3s\u001b[0m 123ms/step - loss: 0.0010 - mae: 0.0172 - mse: 0.0010 - val_loss: 5.9866e-04 - val_mae: 0.0196 - val_mse: 5.9866e-04\n",
      "Epoch 49/50\n",
      "\u001b[1m24/24\u001b[0m \u001b[32m━━━━━━━━━━━━━━━━━━━━\u001b[0m\u001b[37m\u001b[0m \u001b[1m3s\u001b[0m 134ms/step - loss: 9.6803e-04 - mae: 0.0185 - mse: 9.6803e-04 - val_loss: 2.9126e-04 - val_mae: 0.0136 - val_mse: 2.9126e-04\n",
      "Epoch 50/50\n",
      "\u001b[1m24/24\u001b[0m \u001b[32m━━━━━━━━━━━━━━━━━━━━\u001b[0m\u001b[37m\u001b[0m \u001b[1m2s\u001b[0m 100ms/step - loss: 0.0013 - mae: 0.0162 - mse: 0.0013 - val_loss: 4.6458e-04 - val_mae: 0.0173 - val_mse: 4.6458e-04\n",
      "Validation Loss for epochs=50, batch_size=64: 0.0004645784792955965\n",
      "Results dictionary:\n",
      "{(50, 64): 0.0004645784792955965}\n"
     ]
    }
   ],
   "source": [
    "# Initialize an empty dictionary to store the results\n",
    "epochs_list = [ 50]\n",
    "batch_size_list = [64]\n",
    "\n",
    "results_lstm = {}\n",
    "\n",
    "# Loop over epochs and batch sizes\n",
    "for epochs in epochs_list:\n",
    "    for batch_size in batch_size_list:\n",
    "        print(f\"Training with epochs={epochs} and batch_size={batch_size}\")\n",
    "        \n",
    "        # Fit the model with the current hyperparameters\n",
    "        history = stack_model.fit(X_train, y_train, validation_data=(X_test, y_test),\n",
    "                                  epochs=epochs, batch_size=batch_size, verbose=1)\n",
    "        \n",
    "        # Get the validation loss from the training history\n",
    "        val_loss = history.history['val_loss'][-1]  # Last epoch's validation loss\n",
    "        \n",
    "        # Store the result in the dictionary\n",
    "        results_lstm[(epochs, batch_size)] = val_loss\n",
    "        \n",
    "        print(f\"Validation Loss for epochs={epochs}, batch_size={batch_size}: {val_loss}\")\n",
    "\n",
    "# Print out the results dictionary\n",
    "print(\"Results dictionary:\")\n",
    "print(results_lstm)"
   ]
  },
  {
   "cell_type": "code",
   "execution_count": 13,
   "metadata": {},
   "outputs": [
    {
     "data": {
      "text/plain": [
       "{(50, 64): 0.0004645784792955965}"
      ]
     },
     "execution_count": 13,
     "metadata": {},
     "output_type": "execute_result"
    }
   ],
   "source": [
    "results_lstm"
   ]
  },
  {
   "cell_type": "code",
   "execution_count": 14,
   "metadata": {},
   "outputs": [
    {
     "name": "stdout",
     "output_type": "stream",
     "text": [
      "The best combination is epochs=50, batch_size=64 with validation loss 0.0004645784792955965\n"
     ]
    }
   ],
   "source": [
    "best_combination = min(results_lstm, key=results_lstm.get)\n",
    "best_val_loss = results_lstm[best_combination]\n",
    "\n",
    "print(f\"The best combination is epochs={best_combination[0]}, batch_size={best_combination[1]} with validation loss {best_val_loss}\")"
   ]
  },
  {
   "cell_type": "code",
   "execution_count": 15,
   "metadata": {},
   "outputs": [
    {
     "name": "stdout",
     "output_type": "stream",
     "text": [
      "Epoch 1/50\n",
      "\u001b[1m24/24\u001b[0m \u001b[32m━━━━━━━━━━━━━━━━━━━━\u001b[0m\u001b[37m\u001b[0m \u001b[1m3s\u001b[0m 104ms/step - loss: 8.6040e-04 - mae: 0.0174 - mse: 8.6040e-04 - val_loss: 4.2646e-04 - val_mae: 0.0165 - val_mse: 4.2646e-04\n",
      "Epoch 2/50\n",
      "\u001b[1m24/24\u001b[0m \u001b[32m━━━━━━━━━━━━━━━━━━━━\u001b[0m\u001b[37m\u001b[0m \u001b[1m3s\u001b[0m 105ms/step - loss: 9.1148e-04 - mae: 0.0169 - mse: 9.1148e-04 - val_loss: 5.5572e-04 - val_mae: 0.0189 - val_mse: 5.5572e-04\n",
      "Epoch 3/50\n",
      "\u001b[1m24/24\u001b[0m \u001b[32m━━━━━━━━━━━━━━━━━━━━\u001b[0m\u001b[37m\u001b[0m \u001b[1m2s\u001b[0m 102ms/step - loss: 8.7078e-04 - mae: 0.0178 - mse: 8.7078e-04 - val_loss: 3.0570e-04 - val_mae: 0.0139 - val_mse: 3.0570e-04\n",
      "Epoch 4/50\n",
      "\u001b[1m24/24\u001b[0m \u001b[32m━━━━━━━━━━━━━━━━━━━━\u001b[0m\u001b[37m\u001b[0m \u001b[1m2s\u001b[0m 102ms/step - loss: 0.0010 - mae: 0.0154 - mse: 0.0010 - val_loss: 6.1478e-04 - val_mae: 0.0199 - val_mse: 6.1478e-04\n",
      "Epoch 5/50\n",
      "\u001b[1m24/24\u001b[0m \u001b[32m━━━━━━━━━━━━━━━━━━━━\u001b[0m\u001b[37m\u001b[0m \u001b[1m2s\u001b[0m 102ms/step - loss: 8.6319e-04 - mae: 0.0182 - mse: 8.6319e-04 - val_loss: 3.1092e-04 - val_mae: 0.0140 - val_mse: 3.1092e-04\n",
      "Epoch 6/50\n",
      "\u001b[1m24/24\u001b[0m \u001b[32m━━━━━━━━━━━━━━━━━━━━\u001b[0m\u001b[37m\u001b[0m \u001b[1m3s\u001b[0m 104ms/step - loss: 8.7972e-04 - mae: 0.0152 - mse: 8.7972e-04 - val_loss: 4.8935e-04 - val_mae: 0.0178 - val_mse: 4.8935e-04\n",
      "Epoch 7/50\n",
      "\u001b[1m24/24\u001b[0m \u001b[32m━━━━━━━━━━━━━━━━━━━━\u001b[0m\u001b[37m\u001b[0m \u001b[1m2s\u001b[0m 101ms/step - loss: 7.9289e-04 - mae: 0.0164 - mse: 7.9289e-04 - val_loss: 2.6076e-04 - val_mae: 0.0129 - val_mse: 2.6076e-04\n",
      "Epoch 8/50\n",
      "\u001b[1m24/24\u001b[0m \u001b[32m━━━━━━━━━━━━━━━━━━━━\u001b[0m\u001b[37m\u001b[0m \u001b[1m3s\u001b[0m 105ms/step - loss: 9.1040e-04 - mae: 0.0143 - mse: 9.1040e-04 - val_loss: 2.2789e-04 - val_mae: 0.0121 - val_mse: 2.2789e-04\n",
      "Epoch 9/50\n",
      "\u001b[1m24/24\u001b[0m \u001b[32m━━━━━━━━━━━━━━━━━━━━\u001b[0m\u001b[37m\u001b[0m \u001b[1m2s\u001b[0m 103ms/step - loss: 7.5458e-04 - mae: 0.0136 - mse: 7.5458e-04 - val_loss: 3.1999e-04 - val_mae: 0.0144 - val_mse: 3.1999e-04\n",
      "Epoch 10/50\n",
      "\u001b[1m24/24\u001b[0m \u001b[32m━━━━━━━━━━━━━━━━━━━━\u001b[0m\u001b[37m\u001b[0m \u001b[1m2s\u001b[0m 103ms/step - loss: 8.1561e-04 - mae: 0.0149 - mse: 8.1561e-04 - val_loss: 3.3952e-04 - val_mae: 0.0147 - val_mse: 3.3952e-04\n",
      "Epoch 11/50\n",
      "\u001b[1m24/24\u001b[0m \u001b[32m━━━━━━━━━━━━━━━━━━━━\u001b[0m\u001b[37m\u001b[0m \u001b[1m2s\u001b[0m 99ms/step - loss: 7.2392e-04 - mae: 0.0156 - mse: 7.2392e-04 - val_loss: 4.9800e-04 - val_mae: 0.0179 - val_mse: 4.9800e-04\n",
      "Epoch 12/50\n",
      "\u001b[1m24/24\u001b[0m \u001b[32m━━━━━━━━━━━━━━━━━━━━\u001b[0m\u001b[37m\u001b[0m \u001b[1m2s\u001b[0m 102ms/step - loss: 6.8205e-04 - mae: 0.0159 - mse: 6.8205e-04 - val_loss: 3.8369e-04 - val_mae: 0.0156 - val_mse: 3.8369e-04\n",
      "Epoch 13/50\n",
      "\u001b[1m24/24\u001b[0m \u001b[32m━━━━━━━━━━━━━━━━━━━━\u001b[0m\u001b[37m\u001b[0m \u001b[1m3s\u001b[0m 108ms/step - loss: 6.5938e-04 - mae: 0.0146 - mse: 6.5938e-04 - val_loss: 3.7103e-04 - val_mae: 0.0154 - val_mse: 3.7103e-04\n",
      "Epoch 14/50\n",
      "\u001b[1m24/24\u001b[0m \u001b[32m━━━━━━━━━━━━━━━━━━━━\u001b[0m\u001b[37m\u001b[0m \u001b[1m2s\u001b[0m 99ms/step - loss: 8.0939e-04 - mae: 0.0147 - mse: 8.0939e-04 - val_loss: 2.4177e-04 - val_mae: 0.0123 - val_mse: 2.4177e-04\n",
      "Epoch 15/50\n",
      "\u001b[1m24/24\u001b[0m \u001b[32m━━━━━━━━━━━━━━━━━━━━\u001b[0m\u001b[37m\u001b[0m \u001b[1m2s\u001b[0m 101ms/step - loss: 7.8589e-04 - mae: 0.0130 - mse: 7.8589e-04 - val_loss: 3.3181e-04 - val_mae: 0.0145 - val_mse: 3.3181e-04\n",
      "Epoch 16/50\n",
      "\u001b[1m24/24\u001b[0m \u001b[32m━━━━━━━━━━━━━━━━━━━━\u001b[0m\u001b[37m\u001b[0m \u001b[1m3s\u001b[0m 105ms/step - loss: 6.4491e-04 - mae: 0.0144 - mse: 6.4491e-04 - val_loss: 2.5083e-04 - val_mae: 0.0126 - val_mse: 2.5083e-04\n",
      "Epoch 17/50\n",
      "\u001b[1m24/24\u001b[0m \u001b[32m━━━━━━━━━━━━━━━━━━━━\u001b[0m\u001b[37m\u001b[0m \u001b[1m2s\u001b[0m 103ms/step - loss: 5.6886e-04 - mae: 0.0125 - mse: 5.6886e-04 - val_loss: 2.8275e-04 - val_mae: 0.0134 - val_mse: 2.8275e-04\n",
      "Epoch 18/50\n",
      "\u001b[1m24/24\u001b[0m \u001b[32m━━━━━━━━━━━━━━━━━━━━\u001b[0m\u001b[37m\u001b[0m \u001b[1m3s\u001b[0m 111ms/step - loss: 5.0411e-04 - mae: 0.0122 - mse: 5.0411e-04 - val_loss: 2.3855e-04 - val_mae: 0.0123 - val_mse: 2.3855e-04\n",
      "Epoch 19/50\n",
      "\u001b[1m24/24\u001b[0m \u001b[32m━━━━━━━━━━━━━━━━━━━━\u001b[0m\u001b[37m\u001b[0m \u001b[1m3s\u001b[0m 111ms/step - loss: 4.7839e-04 - mae: 0.0118 - mse: 4.7839e-04 - val_loss: 2.5282e-04 - val_mae: 0.0127 - val_mse: 2.5282e-04\n",
      "Epoch 20/50\n",
      "\u001b[1m24/24\u001b[0m \u001b[32m━━━━━━━━━━━━━━━━━━━━\u001b[0m\u001b[37m\u001b[0m \u001b[1m3s\u001b[0m 112ms/step - loss: 4.5315e-04 - mae: 0.0118 - mse: 4.5315e-04 - val_loss: 2.2713e-04 - val_mae: 0.0119 - val_mse: 2.2713e-04\n",
      "Epoch 21/50\n",
      "\u001b[1m24/24\u001b[0m \u001b[32m━━━━━━━━━━━━━━━━━━━━\u001b[0m\u001b[37m\u001b[0m \u001b[1m3s\u001b[0m 105ms/step - loss: 4.3159e-04 - mae: 0.0117 - mse: 4.3159e-04 - val_loss: 2.5876e-04 - val_mae: 0.0128 - val_mse: 2.5876e-04\n",
      "Epoch 22/50\n",
      "\u001b[1m24/24\u001b[0m \u001b[32m━━━━━━━━━━━━━━━━━━━━\u001b[0m\u001b[37m\u001b[0m \u001b[1m3s\u001b[0m 105ms/step - loss: 4.3204e-04 - mae: 0.0120 - mse: 4.3204e-04 - val_loss: 2.2079e-04 - val_mae: 0.0117 - val_mse: 2.2079e-04\n",
      "Epoch 23/50\n",
      "\u001b[1m24/24\u001b[0m \u001b[32m━━━━━━━━━━━━━━━━━━━━\u001b[0m\u001b[37m\u001b[0m \u001b[1m2s\u001b[0m 101ms/step - loss: 4.1756e-04 - mae: 0.0117 - mse: 4.1756e-04 - val_loss: 2.4898e-04 - val_mae: 0.0125 - val_mse: 2.4898e-04\n",
      "Epoch 24/50\n",
      "\u001b[1m24/24\u001b[0m \u001b[32m━━━━━━━━━━━━━━━━━━━━\u001b[0m\u001b[37m\u001b[0m \u001b[1m2s\u001b[0m 102ms/step - loss: 5.2349e-04 - mae: 0.0119 - mse: 5.2349e-04 - val_loss: 3.1584e-04 - val_mae: 0.0142 - val_mse: 3.1584e-04\n",
      "Epoch 25/50\n",
      "\u001b[1m24/24\u001b[0m \u001b[32m━━━━━━━━━━━━━━━━━━━━\u001b[0m\u001b[37m\u001b[0m \u001b[1m2s\u001b[0m 100ms/step - loss: 6.0132e-04 - mae: 0.0138 - mse: 6.0132e-04 - val_loss: 3.1165e-04 - val_mae: 0.0142 - val_mse: 3.1165e-04\n",
      "Epoch 26/50\n",
      "\u001b[1m24/24\u001b[0m \u001b[32m━━━━━━━━━━━━━━━━━━━━\u001b[0m\u001b[37m\u001b[0m \u001b[1m2s\u001b[0m 99ms/step - loss: 6.7333e-04 - mae: 0.0141 - mse: 6.7333e-04 - val_loss: 2.2265e-04 - val_mae: 0.0118 - val_mse: 2.2265e-04\n",
      "Epoch 27/50\n",
      "\u001b[1m24/24\u001b[0m \u001b[32m━━━━━━━━━━━━━━━━━━━━\u001b[0m\u001b[37m\u001b[0m \u001b[1m2s\u001b[0m 101ms/step - loss: 4.8000e-04 - mae: 0.0119 - mse: 4.8000e-04 - val_loss: 1.9724e-04 - val_mae: 0.0111 - val_mse: 1.9724e-04\n",
      "Epoch 28/50\n",
      "\u001b[1m24/24\u001b[0m \u001b[32m━━━━━━━━━━━━━━━━━━━━\u001b[0m\u001b[37m\u001b[0m \u001b[1m3s\u001b[0m 115ms/step - loss: 4.6134e-04 - mae: 0.0107 - mse: 4.6134e-04 - val_loss: 1.9102e-04 - val_mae: 0.0109 - val_mse: 1.9102e-04\n",
      "Epoch 29/50\n",
      "\u001b[1m24/24\u001b[0m \u001b[32m━━━━━━━━━━━━━━━━━━━━\u001b[0m\u001b[37m\u001b[0m \u001b[1m3s\u001b[0m 105ms/step - loss: 4.2093e-04 - mae: 0.0105 - mse: 4.2093e-04 - val_loss: 2.1428e-04 - val_mae: 0.0116 - val_mse: 2.1428e-04\n",
      "Epoch 30/50\n",
      "\u001b[1m24/24\u001b[0m \u001b[32m━━━━━━━━━━━━━━━━━━━━\u001b[0m\u001b[37m\u001b[0m \u001b[1m3s\u001b[0m 105ms/step - loss: 4.4628e-04 - mae: 0.0108 - mse: 4.4628e-04 - val_loss: 1.5588e-04 - val_mae: 0.0098 - val_mse: 1.5588e-04\n",
      "Epoch 31/50\n",
      "\u001b[1m24/24\u001b[0m \u001b[32m━━━━━━━━━━━━━━━━━━━━\u001b[0m\u001b[37m\u001b[0m \u001b[1m3s\u001b[0m 109ms/step - loss: 4.3203e-04 - mae: 0.0104 - mse: 4.3203e-04 - val_loss: 2.6026e-04 - val_mae: 0.0129 - val_mse: 2.6026e-04\n",
      "Epoch 32/50\n",
      "\u001b[1m24/24\u001b[0m \u001b[32m━━━━━━━━━━━━━━━━━━━━\u001b[0m\u001b[37m\u001b[0m \u001b[1m2s\u001b[0m 100ms/step - loss: 4.7346e-04 - mae: 0.0115 - mse: 4.7346e-04 - val_loss: 1.4384e-04 - val_mae: 0.0095 - val_mse: 1.4384e-04\n",
      "Epoch 33/50\n",
      "\u001b[1m24/24\u001b[0m \u001b[32m━━━━━━━━━━━━━━━━━━━━\u001b[0m\u001b[37m\u001b[0m \u001b[1m2s\u001b[0m 102ms/step - loss: 3.9296e-04 - mae: 0.0103 - mse: 3.9296e-04 - val_loss: 1.8274e-04 - val_mae: 0.0106 - val_mse: 1.8274e-04\n",
      "Epoch 34/50\n",
      "\u001b[1m24/24\u001b[0m \u001b[32m━━━━━━━━━━━━━━━━━━━━\u001b[0m\u001b[37m\u001b[0m \u001b[1m3s\u001b[0m 111ms/step - loss: 3.7871e-04 - mae: 0.0105 - mse: 3.7871e-04 - val_loss: 1.6404e-04 - val_mae: 0.0100 - val_mse: 1.6404e-04\n",
      "Epoch 35/50\n",
      "\u001b[1m24/24\u001b[0m \u001b[32m━━━━━━━━━━━━━━━━━━━━\u001b[0m\u001b[37m\u001b[0m \u001b[1m2s\u001b[0m 101ms/step - loss: 3.8771e-04 - mae: 0.0102 - mse: 3.8771e-04 - val_loss: 2.1628e-04 - val_mae: 0.0116 - val_mse: 2.1628e-04\n",
      "Epoch 36/50\n",
      "\u001b[1m24/24\u001b[0m \u001b[32m━━━━━━━━━━━━━━━━━━━━\u001b[0m\u001b[37m\u001b[0m \u001b[1m3s\u001b[0m 107ms/step - loss: 3.8852e-04 - mae: 0.0111 - mse: 3.8852e-04 - val_loss: 1.4575e-04 - val_mae: 0.0095 - val_mse: 1.4575e-04\n",
      "Epoch 37/50\n",
      "\u001b[1m24/24\u001b[0m \u001b[32m━━━━━━━━━━━━━━━━━━━━\u001b[0m\u001b[37m\u001b[0m \u001b[1m3s\u001b[0m 113ms/step - loss: 3.8072e-04 - mae: 0.0103 - mse: 3.8072e-04 - val_loss: 2.2396e-04 - val_mae: 0.0119 - val_mse: 2.2396e-04\n",
      "Epoch 38/50\n",
      "\u001b[1m24/24\u001b[0m \u001b[32m━━━━━━━━━━━━━━━━━━━━\u001b[0m\u001b[37m\u001b[0m \u001b[1m3s\u001b[0m 108ms/step - loss: 3.8406e-04 - mae: 0.0115 - mse: 3.8406e-04 - val_loss: 1.3653e-04 - val_mae: 0.0092 - val_mse: 1.3653e-04\n",
      "Epoch 39/50\n",
      "\u001b[1m24/24\u001b[0m \u001b[32m━━━━━━━━━━━━━━━━━━━━\u001b[0m\u001b[37m\u001b[0m \u001b[1m3s\u001b[0m 104ms/step - loss: 3.6621e-04 - mae: 0.0103 - mse: 3.6621e-04 - val_loss: 2.0208e-04 - val_mae: 0.0112 - val_mse: 2.0208e-04\n",
      "Epoch 40/50\n",
      "\u001b[1m24/24\u001b[0m \u001b[32m━━━━━━━━━━━━━━━━━━━━\u001b[0m\u001b[37m\u001b[0m \u001b[1m3s\u001b[0m 107ms/step - loss: 3.7696e-04 - mae: 0.0113 - mse: 3.7696e-04 - val_loss: 1.5612e-04 - val_mae: 0.0098 - val_mse: 1.5612e-04\n",
      "Epoch 41/50\n",
      "\u001b[1m24/24\u001b[0m \u001b[32m━━━━━━━━━━━━━━━━━━━━\u001b[0m\u001b[37m\u001b[0m \u001b[1m2s\u001b[0m 101ms/step - loss: 4.4891e-04 - mae: 0.0107 - mse: 4.4891e-04 - val_loss: 1.6283e-04 - val_mae: 0.0101 - val_mse: 1.6283e-04\n",
      "Epoch 42/50\n",
      "\u001b[1m24/24\u001b[0m \u001b[32m━━━━━━━━━━━━━━━━━━━━\u001b[0m\u001b[37m\u001b[0m \u001b[1m3s\u001b[0m 107ms/step - loss: 3.6863e-04 - mae: 0.0106 - mse: 3.6863e-04 - val_loss: 1.4233e-04 - val_mae: 0.0094 - val_mse: 1.4233e-04\n",
      "Epoch 43/50\n",
      "\u001b[1m24/24\u001b[0m \u001b[32m━━━━━━━━━━━━━━━━━━━━\u001b[0m\u001b[37m\u001b[0m \u001b[1m2s\u001b[0m 103ms/step - loss: 3.6181e-04 - mae: 0.0099 - mse: 3.6181e-04 - val_loss: 1.9246e-04 - val_mae: 0.0109 - val_mse: 1.9246e-04\n",
      "Epoch 44/50\n",
      "\u001b[1m24/24\u001b[0m \u001b[32m━━━━━━━━━━━━━━━━━━━━\u001b[0m\u001b[37m\u001b[0m \u001b[1m3s\u001b[0m 109ms/step - loss: 3.4254e-04 - mae: 0.0106 - mse: 3.4254e-04 - val_loss: 1.3006e-04 - val_mae: 0.0090 - val_mse: 1.3006e-04\n",
      "Epoch 45/50\n",
      "\u001b[1m24/24\u001b[0m \u001b[32m━━━━━━━━━━━━━━━━━━━━\u001b[0m\u001b[37m\u001b[0m \u001b[1m2s\u001b[0m 101ms/step - loss: 3.6000e-04 - mae: 0.0101 - mse: 3.6000e-04 - val_loss: 2.1194e-04 - val_mae: 0.0115 - val_mse: 2.1194e-04\n",
      "Epoch 46/50\n",
      "\u001b[1m24/24\u001b[0m \u001b[32m━━━━━━━━━━━━━━━━━━━━\u001b[0m\u001b[37m\u001b[0m \u001b[1m2s\u001b[0m 100ms/step - loss: 3.7020e-04 - mae: 0.0112 - mse: 3.7020e-04 - val_loss: 1.2827e-04 - val_mae: 0.0090 - val_mse: 1.2827e-04\n",
      "Epoch 47/50\n",
      "\u001b[1m24/24\u001b[0m \u001b[32m━━━━━━━━━━━━━━━━━━━━\u001b[0m\u001b[37m\u001b[0m \u001b[1m2s\u001b[0m 100ms/step - loss: 3.6985e-04 - mae: 0.0100 - mse: 3.6985e-04 - val_loss: 2.1810e-04 - val_mae: 0.0117 - val_mse: 2.1810e-04\n",
      "Epoch 48/50\n",
      "\u001b[1m24/24\u001b[0m \u001b[32m━━━━━━━━━━━━━━━━━━━━\u001b[0m\u001b[37m\u001b[0m \u001b[1m2s\u001b[0m 103ms/step - loss: 4.9225e-04 - mae: 0.0117 - mse: 4.9225e-04 - val_loss: 1.3208e-04 - val_mae: 0.0092 - val_mse: 1.3208e-04\n",
      "Epoch 49/50\n",
      "\u001b[1m24/24\u001b[0m \u001b[32m━━━━━━━━━━━━━━━━━━━━\u001b[0m\u001b[37m\u001b[0m \u001b[1m3s\u001b[0m 106ms/step - loss: 3.5970e-04 - mae: 0.0100 - mse: 3.5970e-04 - val_loss: 1.5178e-04 - val_mae: 0.0097 - val_mse: 1.5178e-04\n",
      "Epoch 50/50\n",
      "\u001b[1m24/24\u001b[0m \u001b[32m━━━━━━━━━━━━━━━━━━━━\u001b[0m\u001b[37m\u001b[0m \u001b[1m2s\u001b[0m 103ms/step - loss: 3.2363e-04 - mae: 0.0100 - mse: 3.2363e-04 - val_loss: 1.2312e-04 - val_mae: 0.0088 - val_mse: 1.2312e-04\n"
     ]
    },
    {
     "data": {
      "text/plain": [
       "<keras.src.callbacks.history.History at 0x1eb96ee1550>"
      ]
     },
     "execution_count": 15,
     "metadata": {},
     "output_type": "execute_result"
    }
   ],
   "source": [
    "#fitting the model with best parameters \n",
    "stack_model.fit(X_train,y_train,validation_data=(X_test,y_test), epochs=50,batch_size=64, verbose=1 )"
   ]
  },
  {
   "cell_type": "code",
   "execution_count": 16,
   "metadata": {},
   "outputs": [
    {
     "name": "stdout",
     "output_type": "stream",
     "text": [
      "\u001b[1m47/47\u001b[0m \u001b[32m━━━━━━━━━━━━━━━━━━━━\u001b[0m\u001b[37m\u001b[0m \u001b[1m2s\u001b[0m 31ms/step\n",
      "\u001b[1m24/24\u001b[0m \u001b[32m━━━━━━━━━━━━━━━━━━━━\u001b[0m\u001b[37m\u001b[0m \u001b[1m1s\u001b[0m 22ms/step\n"
     ]
    }
   ],
   "source": [
    "# lets run the predictions and check the performance mettrics \n",
    "train_predict = stack_model.predict(X_train)\n",
    "test_predict = stack_model.predict(X_test)"
   ]
  },
  {
   "cell_type": "code",
   "execution_count": 17,
   "metadata": {},
   "outputs": [],
   "source": [
    "# transform back to orignal scale \n",
    "train_predict = scaler.inverse_transform(train_predict)\n",
    "test_predict = scaler.inverse_transform(test_predict)"
   ]
  },
  {
   "cell_type": "code",
   "execution_count": 18,
   "metadata": {},
   "outputs": [
    {
     "data": {
      "text/plain": [
       "188.8661769948805"
      ]
     },
     "execution_count": 18,
     "metadata": {},
     "output_type": "execute_result"
    }
   ],
   "source": [
    "# importing libraries \n",
    "import math \n",
    "from sklearn.metrics import mean_squared_error\n",
    "\n",
    "# calculating the RMSE performance metrics \n",
    "math.sqrt(mean_squared_error(y_train,train_predict))"
   ]
  },
  {
   "cell_type": "code",
   "execution_count": 19,
   "metadata": {},
   "outputs": [
    {
     "data": {
      "text/plain": [
       "184.2052698008641"
      ]
     },
     "execution_count": 19,
     "metadata": {},
     "output_type": "execute_result"
    }
   ],
   "source": [
    "#test data RMSE metrics \n",
    "math.sqrt(mean_squared_error(y_test,test_predict))"
   ]
  },
  {
   "cell_type": "code",
   "execution_count": 20,
   "metadata": {},
   "outputs": [
    {
     "data": {
      "image/png": "[encoded data removed]",
      "text/plain": [
       "<Figure size 640x480 with 1 Axes>"
      ]
     },
     "metadata": {},
     "output_type": "display_data"
    }
   ],
   "source": [
    "#Plotting the models loss \n",
    "plt.plot(history.history['loss'], label='train loss')\n",
    "plt.plot(history.history['val_loss'], label='val loss')\n",
    "plt.title('Loss graph for LSTM1')\n",
    "plt.xlabel('Epochs')\n",
    "plt.ylabel('Loss')\n",
    "plt.legend()\n",
    "plt.show()\n"
   ]
  },
  {
   "cell_type": "markdown",
   "metadata": {},
   "source": [
    " # Loss Graph interpretation \n",
    " both the training loss and validation loss fluctuate while training an LSTM, it generally suggests a few potential issues with the training process.\n",
    "\n",
    "- Learning Rate Too High\n",
    "- Inadequate Model Architecture\n",
    "- Insufficient Epochs or Early Stopping\n",
    "\n",
    "The model has been run many times over, this is the final run and it shows underfitting, more complexity will be added to the next model, LSTM with more layers "
   ]
  },
  {
   "cell_type": "code",
   "execution_count": 21,
   "metadata": {},
   "outputs": [
    {
     "data": {
      "image/png": "[encoded data removed]",
      "text/plain": [
       "<Figure size 640x480 with 1 Axes>"
      ]
     },
     "metadata": {},
     "output_type": "display_data"
    }
   ],
   "source": [
    "# plotting\n",
    "# shift train predictions for plotting \n",
    "look_back = 100\n",
    "trainPredictPlot = np.empty_like(df1)\n",
    "trainPredictPlot[:,:] = np.nan\n",
    "trainPredictPlot[look_back:len(train_predict)+look_back,:] = train_predict\n",
    "# shift test for predictions \n",
    "testPredictPlot =  np.empty_like(df1)\n",
    "testPredictPlot[:,:] = np.nan\n",
    "testPredictPlot[len(train_predict) + (look_back*2) +1: len(df1)-1,:] = test_predict\n",
    "\n",
    "# Plotbaseline and predictions \n",
    "plt.plot(scaler.inverse_transform(df1))\n",
    "plt.plot(trainPredictPlot)\n",
    "plt.plot(testPredictPlot)\n",
    "plt.title('Actual,train and test data plotted LSTM1 ')\n",
    "plt.show()"
   ]
  },
  {
   "cell_type": "code",
   "execution_count": 22,
   "metadata": {},
   "outputs": [
    {
     "name": "stdout",
     "output_type": "stream",
     "text": [
      "df1 shape: (2456, 1)\n",
      "train_predict shape: (1495, 1)\n",
      "test_predict shape: (759, 1)\n"
     ]
    }
   ],
   "source": [
    "print(\"df1 shape:\", df1.shape)\n",
    "print(\"train_predict shape:\", train_predict.shape)\n",
    "print(\"test_predict shape:\", test_predict.shape)\n"
   ]
  },
  {
   "cell_type": "code",
   "execution_count": 23,
   "metadata": {},
   "outputs": [
    {
     "name": "stdout",
     "output_type": "stream",
     "text": [
      "860\n"
     ]
    },
    {
     "data": {
      "text/plain": [
       "(1, 100)"
      ]
     },
     "execution_count": 23,
     "metadata": {},
     "output_type": "execute_result"
    }
   ],
   "source": [
    "# calculate the last 100 days for prediction \n",
    "print(len(test_data))\n",
    "X_input = test_data[760:].reshape(1,-1)\n",
    "X_input.shape"
   ]
  },
  {
   "cell_type": "code",
   "execution_count": 24,
   "metadata": {},
   "outputs": [],
   "source": [
    "#convert it from an array to a lost for plotting \n",
    "temp_input = list(X_input)\n",
    "temp_input = temp_input[0].tolist()"
   ]
  },
  {
   "cell_type": "code",
   "execution_count": 25,
   "metadata": {},
   "outputs": [
    {
     "name": "stdout",
     "output_type": "stream",
     "text": [
      "[0.3657009]\n",
      "101\n",
      "1 day input [0.31593506 0.32574865 0.3348166  0.33361395 0.33003007 0.33904991\n",
      " 0.3451834  0.34020445 0.34109441 0.34794949 0.35150932 0.35001804\n",
      " 0.33775105 0.33729405 0.33931449 0.34410102 0.34475045 0.33616356\n",
      " 0.32608539 0.31886951 0.31670475 0.32016837 0.31841251 0.3298617\n",
      " 0.32861094 0.3220445  0.3220445  0.32418521 0.33164161 0.32389657\n",
      " 0.33116055 0.33178593 0.33351774 0.3323632  0.33561034 0.34282622\n",
      " 0.34809381 0.34778112 0.35355382 0.35898978 0.36634997 0.36721587\n",
      " 0.36728803 0.36680698 0.37621167 0.37866506 0.37558629 0.37912207\n",
      " 0.37953097 0.38653037 0.39239928 0.37933854 0.38352375 0.39482862\n",
      " 0.39670475 0.40375225 0.40572459 0.39747444 0.38932051 0.38503909\n",
      " 0.36923632 0.36805773 0.37200241 0.36529164 0.36647023 0.35239928\n",
      " 0.34650631 0.34381239 0.35485268 0.33173782 0.33587492 0.31822008\n",
      " 0.32108238 0.32067348 0.31855683 0.33558629 0.35579074 0.35843656\n",
      " 0.35417919 0.35035478 0.3311365  0.34265785 0.3418641  0.34366807\n",
      " 0.33022249 0.3302706  0.34222489 0.35244738 0.36365604 0.37104029\n",
      " 0.3707276  0.37168972 0.3739988  0.37332532 0.37705352 0.3769092\n",
      " 0.36084185 0.35348166 0.36440168 0.3657009 ]\n"
     ]
    },
    {
     "name": "stdout",
     "output_type": "stream",
     "text": [
      "1 day output [[0.3628371]]\n",
      "2 day input [0.32574865 0.3348166  0.33361395 0.33003007 0.33904991 0.3451834\n",
      " 0.34020445 0.34109441 0.34794949 0.35150932 0.35001804 0.33775105\n",
      " 0.33729405 0.33931449 0.34410102 0.34475045 0.33616356 0.32608539\n",
      " 0.31886951 0.31670475 0.32016837 0.31841251 0.3298617  0.32861094\n",
      " 0.3220445  0.3220445  0.32418521 0.33164161 0.32389657 0.33116055\n",
      " 0.33178593 0.33351774 0.3323632  0.33561034 0.34282622 0.34809381\n",
      " 0.34778112 0.35355382 0.35898978 0.36634997 0.36721587 0.36728803\n",
      " 0.36680698 0.37621167 0.37866506 0.37558629 0.37912207 0.37953097\n",
      " 0.38653037 0.39239928 0.37933854 0.38352375 0.39482862 0.39670475\n",
      " 0.40375225 0.40572459 0.39747444 0.38932051 0.38503909 0.36923632\n",
      " 0.36805773 0.37200241 0.36529164 0.36647023 0.35239928 0.34650631\n",
      " 0.34381239 0.35485268 0.33173782 0.33587492 0.31822008 0.32108238\n",
      " 0.32067348 0.31855683 0.33558629 0.35579074 0.35843656 0.35417919\n",
      " 0.35035478 0.3311365  0.34265785 0.3418641  0.34366807 0.33022249\n",
      " 0.3302706  0.34222489 0.35244738 0.36365604 0.37104029 0.3707276\n",
      " 0.37168972 0.3739988  0.37332532 0.37705352 0.3769092  0.36084185\n",
      " 0.35348166 0.36440168 0.3657009  0.36283711]\n",
      "2 day output [[0.36223817]]\n",
      "3 day input [0.3348166  0.33361395 0.33003007 0.33904991 0.3451834  0.34020445\n",
      " 0.34109441 0.34794949 0.35150932 0.35001804 0.33775105 0.33729405\n",
      " 0.33931449 0.34410102 0.34475045 0.33616356 0.32608539 0.31886951\n",
      " 0.31670475 0.32016837 0.31841251 0.3298617  0.32861094 0.3220445\n",
      " 0.3220445  0.32418521 0.33164161 0.32389657 0.33116055 0.33178593\n",
      " 0.33351774 0.3323632  0.33561034 0.34282622 0.34809381 0.34778112\n",
      " 0.35355382 0.35898978 0.36634997 0.36721587 0.36728803 0.36680698\n",
      " 0.37621167 0.37866506 0.37558629 0.37912207 0.37953097 0.38653037\n",
      " 0.39239928 0.37933854 0.38352375 0.39482862 0.39670475 0.40375225\n",
      " 0.40572459 0.39747444 0.38932051 0.38503909 0.36923632 0.36805773\n",
      " 0.37200241 0.36529164 0.36647023 0.35239928 0.34650631 0.34381239\n",
      " 0.35485268 0.33173782 0.33587492 0.31822008 0.32108238 0.32067348\n",
      " 0.31855683 0.33558629 0.35579074 0.35843656 0.35417919 0.35035478\n",
      " 0.3311365  0.34265785 0.3418641  0.34366807 0.33022249 0.3302706\n",
      " 0.34222489 0.35244738 0.36365604 0.37104029 0.3707276  0.37168972\n",
      " 0.3739988  0.37332532 0.37705352 0.3769092  0.36084185 0.35348166\n",
      " 0.36440168 0.3657009  0.36283711 0.36223817]\n",
      "3 day output [[0.36281797]]\n",
      "4 day input [0.33361395 0.33003007 0.33904991 0.3451834  0.34020445 0.34109441\n",
      " 0.34794949 0.35150932 0.35001804 0.33775105 0.33729405 0.33931449\n",
      " 0.34410102 0.34475045 0.33616356 0.32608539 0.31886951 0.31670475\n",
      " 0.32016837 0.31841251 0.3298617  0.32861094 0.3220445  0.3220445\n",
      " 0.32418521 0.33164161 0.32389657 0.33116055 0.33178593 0.33351774\n",
      " 0.3323632  0.33561034 0.34282622 0.34809381 0.34778112 0.35355382\n",
      " 0.35898978 0.36634997 0.36721587 0.36728803 0.36680698 0.37621167\n",
      " 0.37866506 0.37558629 0.37912207 0.37953097 0.38653037 0.39239928\n",
      " 0.37933854 0.38352375 0.39482862 0.39670475 0.40375225 0.40572459\n",
      " 0.39747444 0.38932051 0.38503909 0.36923632 0.36805773 0.37200241\n",
      " 0.36529164 0.36647023 0.35239928 0.34650631 0.34381239 0.35485268\n",
      " 0.33173782 0.33587492 0.31822008 0.32108238 0.32067348 0.31855683\n",
      " 0.33558629 0.35579074 0.35843656 0.35417919 0.35035478 0.3311365\n",
      " 0.34265785 0.3418641  0.34366807 0.33022249 0.3302706  0.34222489\n",
      " 0.35244738 0.36365604 0.37104029 0.3707276  0.37168972 0.3739988\n",
      " 0.37332532 0.37705352 0.3769092  0.36084185 0.35348166 0.36440168\n",
      " 0.3657009  0.36283711 0.36223817 0.36281797]\n",
      "4 day output [[0.36396813]]\n",
      "5 day input [0.33003007 0.33904991 0.3451834  0.34020445 0.34109441 0.34794949\n",
      " 0.35150932 0.35001804 0.33775105 0.33729405 0.33931449 0.34410102\n",
      " 0.34475045 0.33616356 0.32608539 0.31886951 0.31670475 0.32016837\n",
      " 0.31841251 0.3298617  0.32861094 0.3220445  0.3220445  0.32418521\n",
      " 0.33164161 0.32389657 0.33116055 0.33178593 0.33351774 0.3323632\n",
      " 0.33561034 0.34282622 0.34809381 0.34778112 0.35355382 0.35898978\n",
      " 0.36634997 0.36721587 0.36728803 0.36680698 0.37621167 0.37866506\n",
      " 0.37558629 0.37912207 0.37953097 0.38653037 0.39239928 0.37933854\n",
      " 0.38352375 0.39482862 0.39670475 0.40375225 0.40572459 0.39747444\n",
      " 0.38932051 0.38503909 0.36923632 0.36805773 0.37200241 0.36529164\n",
      " 0.36647023 0.35239928 0.34650631 0.34381239 0.35485268 0.33173782\n",
      " 0.33587492 0.31822008 0.32108238 0.32067348 0.31855683 0.33558629\n",
      " 0.35579074 0.35843656 0.35417919 0.35035478 0.3311365  0.34265785\n",
      " 0.3418641  0.34366807 0.33022249 0.3302706  0.34222489 0.35244738\n",
      " 0.36365604 0.37104029 0.3707276  0.37168972 0.3739988  0.37332532\n",
      " 0.37705352 0.3769092  0.36084185 0.35348166 0.36440168 0.3657009\n",
      " 0.36283711 0.36223817 0.36281797 0.36396813]\n",
      "5 day output [[0.36544722]]\n",
      "6 day input [0.33904991 0.3451834  0.34020445 0.34109441 0.34794949 0.35150932\n",
      " 0.35001804 0.33775105 0.33729405 0.33931449 0.34410102 0.34475045\n",
      " 0.33616356 0.32608539 0.31886951 0.31670475 0.32016837 0.31841251\n",
      " 0.3298617  0.32861094 0.3220445  0.3220445  0.32418521 0.33164161\n",
      " 0.32389657 0.33116055 0.33178593 0.33351774 0.3323632  0.33561034\n",
      " 0.34282622 0.34809381 0.34778112 0.35355382 0.35898978 0.36634997\n",
      " 0.36721587 0.36728803 0.36680698 0.37621167 0.37866506 0.37558629\n",
      " 0.37912207 0.37953097 0.38653037 0.39239928 0.37933854 0.38352375\n",
      " 0.39482862 0.39670475 0.40375225 0.40572459 0.39747444 0.38932051\n",
      " 0.38503909 0.36923632 0.36805773 0.37200241 0.36529164 0.36647023\n",
      " 0.35239928 0.34650631 0.34381239 0.35485268 0.33173782 0.33587492\n",
      " 0.31822008 0.32108238 0.32067348 0.31855683 0.33558629 0.35579074\n",
      " 0.35843656 0.35417919 0.35035478 0.3311365  0.34265785 0.3418641\n",
      " 0.34366807 0.33022249 0.3302706  0.34222489 0.35244738 0.36365604\n",
      " 0.37104029 0.3707276  0.37168972 0.3739988  0.37332532 0.37705352\n",
      " 0.3769092  0.36084185 0.35348166 0.36440168 0.3657009  0.36283711\n",
      " 0.36223817 0.36281797 0.36396813 0.36544722]\n",
      "6 day output [[0.36716413]]\n",
      "7 day input [0.3451834  0.34020445 0.34109441 0.34794949 0.35150932 0.35001804\n",
      " 0.33775105 0.33729405 0.33931449 0.34410102 0.34475045 0.33616356\n",
      " 0.32608539 0.31886951 0.31670475 0.32016837 0.31841251 0.3298617\n",
      " 0.32861094 0.3220445  0.3220445  0.32418521 0.33164161 0.32389657\n",
      " 0.33116055 0.33178593 0.33351774 0.3323632  0.33561034 0.34282622\n",
      " 0.34809381 0.34778112 0.35355382 0.35898978 0.36634997 0.36721587\n",
      " 0.36728803 0.36680698 0.37621167 0.37866506 0.37558629 0.37912207\n",
      " 0.37953097 0.38653037 0.39239928 0.37933854 0.38352375 0.39482862\n",
      " 0.39670475 0.40375225 0.40572459 0.39747444 0.38932051 0.38503909\n",
      " 0.36923632 0.36805773 0.37200241 0.36529164 0.36647023 0.35239928\n",
      " 0.34650631 0.34381239 0.35485268 0.33173782 0.33587492 0.31822008\n",
      " 0.32108238 0.32067348 0.31855683 0.33558629 0.35579074 0.35843656\n",
      " 0.35417919 0.35035478 0.3311365  0.34265785 0.3418641  0.34366807\n",
      " 0.33022249 0.3302706  0.34222489 0.35244738 0.36365604 0.37104029\n",
      " 0.3707276  0.37168972 0.3739988  0.37332532 0.37705352 0.3769092\n",
      " 0.36084185 0.35348166 0.36440168 0.3657009  0.36283711 0.36223817\n",
      " 0.36281797 0.36396813 0.36544722 0.36716413]\n",
      "7 day output [[0.3690567]]\n",
      "8 day input [0.34020445 0.34109441 0.34794949 0.35150932 0.35001804 0.33775105\n",
      " 0.33729405 0.33931449 0.34410102 0.34475045 0.33616356 0.32608539\n",
      " 0.31886951 0.31670475 0.32016837 0.31841251 0.3298617  0.32861094\n",
      " 0.3220445  0.3220445  0.32418521 0.33164161 0.32389657 0.33116055\n",
      " 0.33178593 0.33351774 0.3323632  0.33561034 0.34282622 0.34809381\n",
      " 0.34778112 0.35355382 0.35898978 0.36634997 0.36721587 0.36728803\n",
      " 0.36680698 0.37621167 0.37866506 0.37558629 0.37912207 0.37953097\n",
      " 0.38653037 0.39239928 0.37933854 0.38352375 0.39482862 0.39670475\n",
      " 0.40375225 0.40572459 0.39747444 0.38932051 0.38503909 0.36923632\n",
      " 0.36805773 0.37200241 0.36529164 0.36647023 0.35239928 0.34650631\n",
      " 0.34381239 0.35485268 0.33173782 0.33587492 0.31822008 0.32108238\n",
      " 0.32067348 0.31855683 0.33558629 0.35579074 0.35843656 0.35417919\n",
      " 0.35035478 0.3311365  0.34265785 0.3418641  0.34366807 0.33022249\n",
      " 0.3302706  0.34222489 0.35244738 0.36365604 0.37104029 0.3707276\n",
      " 0.37168972 0.3739988  0.37332532 0.37705352 0.3769092  0.36084185\n",
      " 0.35348166 0.36440168 0.3657009  0.36283711 0.36223817 0.36281797\n",
      " 0.36396813 0.36544722 0.36716413 0.3690567 ]\n",
      "8 day output [[0.37105793]]\n",
      "9 day input [0.34109441 0.34794949 0.35150932 0.35001804 0.33775105 0.33729405\n",
      " 0.33931449 0.34410102 0.34475045 0.33616356 0.32608539 0.31886951\n",
      " 0.31670475 0.32016837 0.31841251 0.3298617  0.32861094 0.3220445\n",
      " 0.3220445  0.32418521 0.33164161 0.32389657 0.33116055 0.33178593\n",
      " 0.33351774 0.3323632  0.33561034 0.34282622 0.34809381 0.34778112\n",
      " 0.35355382 0.35898978 0.36634997 0.36721587 0.36728803 0.36680698\n",
      " 0.37621167 0.37866506 0.37558629 0.37912207 0.37953097 0.38653037\n",
      " 0.39239928 0.37933854 0.38352375 0.39482862 0.39670475 0.40375225\n",
      " 0.40572459 0.39747444 0.38932051 0.38503909 0.36923632 0.36805773\n",
      " 0.37200241 0.36529164 0.36647023 0.35239928 0.34650631 0.34381239\n",
      " 0.35485268 0.33173782 0.33587492 0.31822008 0.32108238 0.32067348\n",
      " 0.31855683 0.33558629 0.35579074 0.35843656 0.35417919 0.35035478\n",
      " 0.3311365  0.34265785 0.3418641  0.34366807 0.33022249 0.3302706\n",
      " 0.34222489 0.35244738 0.36365604 0.37104029 0.3707276  0.37168972\n",
      " 0.3739988  0.37332532 0.37705352 0.3769092  0.36084185 0.35348166\n",
      " 0.36440168 0.3657009  0.36283711 0.36223817 0.36281797 0.36396813\n",
      " 0.36544722 0.36716413 0.3690567  0.37105793]\n",
      "9 day output [[0.37310058]]\n",
      "10 day input [0.34794949 0.35150932 0.35001804 0.33775105 0.33729405 0.33931449\n",
      " 0.34410102 0.34475045 0.33616356 0.32608539 0.31886951 0.31670475\n",
      " 0.32016837 0.31841251 0.3298617  0.32861094 0.3220445  0.3220445\n",
      " 0.32418521 0.33164161 0.32389657 0.33116055 0.33178593 0.33351774\n",
      " 0.3323632  0.33561034 0.34282622 0.34809381 0.34778112 0.35355382\n",
      " 0.35898978 0.36634997 0.36721587 0.36728803 0.36680698 0.37621167\n",
      " 0.37866506 0.37558629 0.37912207 0.37953097 0.38653037 0.39239928\n",
      " 0.37933854 0.38352375 0.39482862 0.39670475 0.40375225 0.40572459\n",
      " 0.39747444 0.38932051 0.38503909 0.36923632 0.36805773 0.37200241\n",
      " 0.36529164 0.36647023 0.35239928 0.34650631 0.34381239 0.35485268\n",
      " 0.33173782 0.33587492 0.31822008 0.32108238 0.32067348 0.31855683\n",
      " 0.33558629 0.35579074 0.35843656 0.35417919 0.35035478 0.3311365\n",
      " 0.34265785 0.3418641  0.34366807 0.33022249 0.3302706  0.34222489\n",
      " 0.35244738 0.36365604 0.37104029 0.3707276  0.37168972 0.3739988\n",
      " 0.37332532 0.37705352 0.3769092  0.36084185 0.35348166 0.36440168\n",
      " 0.3657009  0.36283711 0.36223817 0.36281797 0.36396813 0.36544722\n",
      " 0.36716413 0.3690567  0.37105793 0.37310058]\n",
      "10 day output [[0.37512967]]\n",
      "11 day input [0.35150932 0.35001804 0.33775105 0.33729405 0.33931449 0.34410102\n",
      " 0.34475045 0.33616356 0.32608539 0.31886951 0.31670475 0.32016837\n",
      " 0.31841251 0.3298617  0.32861094 0.3220445  0.3220445  0.32418521\n",
      " 0.33164161 0.32389657 0.33116055 0.33178593 0.33351774 0.3323632\n",
      " 0.33561034 0.34282622 0.34809381 0.34778112 0.35355382 0.35898978\n",
      " 0.36634997 0.36721587 0.36728803 0.36680698 0.37621167 0.37866506\n",
      " 0.37558629 0.37912207 0.37953097 0.38653037 0.39239928 0.37933854\n",
      " 0.38352375 0.39482862 0.39670475 0.40375225 0.40572459 0.39747444\n",
      " 0.38932051 0.38503909 0.36923632 0.36805773 0.37200241 0.36529164\n",
      " 0.36647023 0.35239928 0.34650631 0.34381239 0.35485268 0.33173782\n",
      " 0.33587492 0.31822008 0.32108238 0.32067348 0.31855683 0.33558629\n",
      " 0.35579074 0.35843656 0.35417919 0.35035478 0.3311365  0.34265785\n",
      " 0.3418641  0.34366807 0.33022249 0.3302706  0.34222489 0.35244738\n",
      " 0.36365604 0.37104029 0.3707276  0.37168972 0.3739988  0.37332532\n",
      " 0.37705352 0.3769092  0.36084185 0.35348166 0.36440168 0.3657009\n",
      " 0.36283711 0.36223817 0.36281797 0.36396813 0.36544722 0.36716413\n",
      " 0.3690567  0.37105793 0.37310058 0.37512967]\n",
      "11 day output [[0.37711033]]\n",
      "12 day input [0.35001804 0.33775105 0.33729405 0.33931449 0.34410102 0.34475045\n",
      " 0.33616356 0.32608539 0.31886951 0.31670475 0.32016837 0.31841251\n",
      " 0.3298617  0.32861094 0.3220445  0.3220445  0.32418521 0.33164161\n",
      " 0.32389657 0.33116055 0.33178593 0.33351774 0.3323632  0.33561034\n",
      " 0.34282622 0.34809381 0.34778112 0.35355382 0.35898978 0.36634997\n",
      " 0.36721587 0.36728803 0.36680698 0.37621167 0.37866506 0.37558629\n",
      " 0.37912207 0.37953097 0.38653037 0.39239928 0.37933854 0.38352375\n",
      " 0.39482862 0.39670475 0.40375225 0.40572459 0.39747444 0.38932051\n",
      " 0.38503909 0.36923632 0.36805773 0.37200241 0.36529164 0.36647023\n",
      " 0.35239928 0.34650631 0.34381239 0.35485268 0.33173782 0.33587492\n",
      " 0.31822008 0.32108238 0.32067348 0.31855683 0.33558629 0.35579074\n",
      " 0.35843656 0.35417919 0.35035478 0.3311365  0.34265785 0.3418641\n",
      " 0.34366807 0.33022249 0.3302706  0.34222489 0.35244738 0.36365604\n",
      " 0.37104029 0.3707276  0.37168972 0.3739988  0.37332532 0.37705352\n",
      " 0.3769092  0.36084185 0.35348166 0.36440168 0.3657009  0.36283711\n",
      " 0.36223817 0.36281797 0.36396813 0.36544722 0.36716413 0.3690567\n",
      " 0.37105793 0.37310058 0.37512967 0.37711033]\n",
      "12 day output [[0.3790296]]\n",
      "13 day input [0.33775105 0.33729405 0.33931449 0.34410102 0.34475045 0.33616356\n",
      " 0.32608539 0.31886951 0.31670475 0.32016837 0.31841251 0.3298617\n",
      " 0.32861094 0.3220445  0.3220445  0.32418521 0.33164161 0.32389657\n",
      " 0.33116055 0.33178593 0.33351774 0.3323632  0.33561034 0.34282622\n",
      " 0.34809381 0.34778112 0.35355382 0.35898978 0.36634997 0.36721587\n",
      " 0.36728803 0.36680698 0.37621167 0.37866506 0.37558629 0.37912207\n",
      " 0.37953097 0.38653037 0.39239928 0.37933854 0.38352375 0.39482862\n",
      " 0.39670475 0.40375225 0.40572459 0.39747444 0.38932051 0.38503909\n",
      " 0.36923632 0.36805773 0.37200241 0.36529164 0.36647023 0.35239928\n",
      " 0.34650631 0.34381239 0.35485268 0.33173782 0.33587492 0.31822008\n",
      " 0.32108238 0.32067348 0.31855683 0.33558629 0.35579074 0.35843656\n",
      " 0.35417919 0.35035478 0.3311365  0.34265785 0.3418641  0.34366807\n",
      " 0.33022249 0.3302706  0.34222489 0.35244738 0.36365604 0.37104029\n",
      " 0.3707276  0.37168972 0.3739988  0.37332532 0.37705352 0.3769092\n",
      " 0.36084185 0.35348166 0.36440168 0.3657009  0.36283711 0.36223817\n",
      " 0.36281797 0.36396813 0.36544722 0.36716413 0.3690567  0.37105793\n",
      " 0.37310058 0.37512967 0.37711033 0.3790296 ]\n",
      "13 day output [[0.3808949]]\n",
      "14 day input [0.33729405 0.33931449 0.34410102 0.34475045 0.33616356 0.32608539\n",
      " 0.31886951 0.31670475 0.32016837 0.31841251 0.3298617  0.32861094\n",
      " 0.3220445  0.3220445  0.32418521 0.33164161 0.32389657 0.33116055\n",
      " 0.33178593 0.33351774 0.3323632  0.33561034 0.34282622 0.34809381\n",
      " 0.34778112 0.35355382 0.35898978 0.36634997 0.36721587 0.36728803\n",
      " 0.36680698 0.37621167 0.37866506 0.37558629 0.37912207 0.37953097\n",
      " 0.38653037 0.39239928 0.37933854 0.38352375 0.39482862 0.39670475\n",
      " 0.40375225 0.40572459 0.39747444 0.38932051 0.38503909 0.36923632\n",
      " 0.36805773 0.37200241 0.36529164 0.36647023 0.35239928 0.34650631\n",
      " 0.34381239 0.35485268 0.33173782 0.33587492 0.31822008 0.32108238\n",
      " 0.32067348 0.31855683 0.33558629 0.35579074 0.35843656 0.35417919\n",
      " 0.35035478 0.3311365  0.34265785 0.3418641  0.34366807 0.33022249\n",
      " 0.3302706  0.34222489 0.35244738 0.36365604 0.37104029 0.3707276\n",
      " 0.37168972 0.3739988  0.37332532 0.37705352 0.3769092  0.36084185\n",
      " 0.35348166 0.36440168 0.3657009  0.36283711 0.36223817 0.36281797\n",
      " 0.36396813 0.36544722 0.36716413 0.3690567  0.37105793 0.37310058\n",
      " 0.37512967 0.37711033 0.3790296  0.3808949 ]\n",
      "14 day output [[0.38272974]]\n",
      "15 day input [0.33931449 0.34410102 0.34475045 0.33616356 0.32608539 0.31886951\n",
      " 0.31670475 0.32016837 0.31841251 0.3298617  0.32861094 0.3220445\n",
      " 0.3220445  0.32418521 0.33164161 0.32389657 0.33116055 0.33178593\n",
      " 0.33351774 0.3323632  0.33561034 0.34282622 0.34809381 0.34778112\n",
      " 0.35355382 0.35898978 0.36634997 0.36721587 0.36728803 0.36680698\n",
      " 0.37621167 0.37866506 0.37558629 0.37912207 0.37953097 0.38653037\n",
      " 0.39239928 0.37933854 0.38352375 0.39482862 0.39670475 0.40375225\n",
      " 0.40572459 0.39747444 0.38932051 0.38503909 0.36923632 0.36805773\n",
      " 0.37200241 0.36529164 0.36647023 0.35239928 0.34650631 0.34381239\n",
      " 0.35485268 0.33173782 0.33587492 0.31822008 0.32108238 0.32067348\n",
      " 0.31855683 0.33558629 0.35579074 0.35843656 0.35417919 0.35035478\n",
      " 0.3311365  0.34265785 0.3418641  0.34366807 0.33022249 0.3302706\n",
      " 0.34222489 0.35244738 0.36365604 0.37104029 0.3707276  0.37168972\n",
      " 0.3739988  0.37332532 0.37705352 0.3769092  0.36084185 0.35348166\n",
      " 0.36440168 0.3657009  0.36283711 0.36223817 0.36281797 0.36396813\n",
      " 0.36544722 0.36716413 0.3690567  0.37105793 0.37310058 0.37512967\n",
      " 0.37711033 0.3790296  0.3808949  0.38272974]\n",
      "15 day output [[0.38456872]]\n",
      "16 day input [0.34410102 0.34475045 0.33616356 0.32608539 0.31886951 0.31670475\n",
      " 0.32016837 0.31841251 0.3298617  0.32861094 0.3220445  0.3220445\n",
      " 0.32418521 0.33164161 0.32389657 0.33116055 0.33178593 0.33351774\n",
      " 0.3323632  0.33561034 0.34282622 0.34809381 0.34778112 0.35355382\n",
      " 0.35898978 0.36634997 0.36721587 0.36728803 0.36680698 0.37621167\n",
      " 0.37866506 0.37558629 0.37912207 0.37953097 0.38653037 0.39239928\n",
      " 0.37933854 0.38352375 0.39482862 0.39670475 0.40375225 0.40572459\n",
      " 0.39747444 0.38932051 0.38503909 0.36923632 0.36805773 0.37200241\n",
      " 0.36529164 0.36647023 0.35239928 0.34650631 0.34381239 0.35485268\n",
      " 0.33173782 0.33587492 0.31822008 0.32108238 0.32067348 0.31855683\n",
      " 0.33558629 0.35579074 0.35843656 0.35417919 0.35035478 0.3311365\n",
      " 0.34265785 0.3418641  0.34366807 0.33022249 0.3302706  0.34222489\n",
      " 0.35244738 0.36365604 0.37104029 0.3707276  0.37168972 0.3739988\n",
      " 0.37332532 0.37705352 0.3769092  0.36084185 0.35348166 0.36440168\n",
      " 0.3657009  0.36283711 0.36223817 0.36281797 0.36396813 0.36544722\n",
      " 0.36716413 0.3690567  0.37105793 0.37310058 0.37512967 0.37711033\n",
      " 0.3790296  0.3808949  0.38272974 0.38456872]\n",
      "16 day output [[0.3864518]]\n",
      "17 day input [0.34475045 0.33616356 0.32608539 0.31886951 0.31670475 0.32016837\n",
      " 0.31841251 0.3298617  0.32861094 0.3220445  0.3220445  0.32418521\n",
      " 0.33164161 0.32389657 0.33116055 0.33178593 0.33351774 0.3323632\n",
      " 0.33561034 0.34282622 0.34809381 0.34778112 0.35355382 0.35898978\n",
      " 0.36634997 0.36721587 0.36728803 0.36680698 0.37621167 0.37866506\n",
      " 0.37558629 0.37912207 0.37953097 0.38653037 0.39239928 0.37933854\n",
      " 0.38352375 0.39482862 0.39670475 0.40375225 0.40572459 0.39747444\n",
      " 0.38932051 0.38503909 0.36923632 0.36805773 0.37200241 0.36529164\n",
      " 0.36647023 0.35239928 0.34650631 0.34381239 0.35485268 0.33173782\n",
      " 0.33587492 0.31822008 0.32108238 0.32067348 0.31855683 0.33558629\n",
      " 0.35579074 0.35843656 0.35417919 0.35035478 0.3311365  0.34265785\n",
      " 0.3418641  0.34366807 0.33022249 0.3302706  0.34222489 0.35244738\n",
      " 0.36365604 0.37104029 0.3707276  0.37168972 0.3739988  0.37332532\n",
      " 0.37705352 0.3769092  0.36084185 0.35348166 0.36440168 0.3657009\n",
      " 0.36283711 0.36223817 0.36281797 0.36396813 0.36544722 0.36716413\n",
      " 0.3690567  0.37105793 0.37310058 0.37512967 0.37711033 0.3790296\n",
      " 0.3808949  0.38272974 0.38456872 0.38645181]\n",
      "17 day output [[0.38842067]]\n",
      "18 day input [0.33616356 0.32608539 0.31886951 0.31670475 0.32016837 0.31841251\n",
      " 0.3298617  0.32861094 0.3220445  0.3220445  0.32418521 0.33164161\n",
      " 0.32389657 0.33116055 0.33178593 0.33351774 0.3323632  0.33561034\n",
      " 0.34282622 0.34809381 0.34778112 0.35355382 0.35898978 0.36634997\n",
      " 0.36721587 0.36728803 0.36680698 0.37621167 0.37866506 0.37558629\n",
      " 0.37912207 0.37953097 0.38653037 0.39239928 0.37933854 0.38352375\n",
      " 0.39482862 0.39670475 0.40375225 0.40572459 0.39747444 0.38932051\n",
      " 0.38503909 0.36923632 0.36805773 0.37200241 0.36529164 0.36647023\n",
      " 0.35239928 0.34650631 0.34381239 0.35485268 0.33173782 0.33587492\n",
      " 0.31822008 0.32108238 0.32067348 0.31855683 0.33558629 0.35579074\n",
      " 0.35843656 0.35417919 0.35035478 0.3311365  0.34265785 0.3418641\n",
      " 0.34366807 0.33022249 0.3302706  0.34222489 0.35244738 0.36365604\n",
      " 0.37104029 0.3707276  0.37168972 0.3739988  0.37332532 0.37705352\n",
      " 0.3769092  0.36084185 0.35348166 0.36440168 0.3657009  0.36283711\n",
      " 0.36223817 0.36281797 0.36396813 0.36544722 0.36716413 0.3690567\n",
      " 0.37105793 0.37310058 0.37512967 0.37711033 0.3790296  0.3808949\n",
      " 0.38272974 0.38456872 0.38645181 0.38842067]\n",
      "18 day output [[0.39051458]]\n",
      "19 day input [0.32608539 0.31886951 0.31670475 0.32016837 0.31841251 0.3298617\n",
      " 0.32861094 0.3220445  0.3220445  0.32418521 0.33164161 0.32389657\n",
      " 0.33116055 0.33178593 0.33351774 0.3323632  0.33561034 0.34282622\n",
      " 0.34809381 0.34778112 0.35355382 0.35898978 0.36634997 0.36721587\n",
      " 0.36728803 0.36680698 0.37621167 0.37866506 0.37558629 0.37912207\n",
      " 0.37953097 0.38653037 0.39239928 0.37933854 0.38352375 0.39482862\n",
      " 0.39670475 0.40375225 0.40572459 0.39747444 0.38932051 0.38503909\n",
      " 0.36923632 0.36805773 0.37200241 0.36529164 0.36647023 0.35239928\n",
      " 0.34650631 0.34381239 0.35485268 0.33173782 0.33587492 0.31822008\n",
      " 0.32108238 0.32067348 0.31855683 0.33558629 0.35579074 0.35843656\n",
      " 0.35417919 0.35035478 0.3311365  0.34265785 0.3418641  0.34366807\n",
      " 0.33022249 0.3302706  0.34222489 0.35244738 0.36365604 0.37104029\n",
      " 0.3707276  0.37168972 0.3739988  0.37332532 0.37705352 0.3769092\n",
      " 0.36084185 0.35348166 0.36440168 0.3657009  0.36283711 0.36223817\n",
      " 0.36281797 0.36396813 0.36544722 0.36716413 0.3690567  0.37105793\n",
      " 0.37310058 0.37512967 0.37711033 0.3790296  0.3808949  0.38272974\n",
      " 0.38456872 0.38645181 0.38842067 0.39051458]\n",
      "19 day output [[0.39276764]]\n",
      "20 day input [0.31886951 0.31670475 0.32016837 0.31841251 0.3298617  0.32861094\n",
      " 0.3220445  0.3220445  0.32418521 0.33164161 0.32389657 0.33116055\n",
      " 0.33178593 0.33351774 0.3323632  0.33561034 0.34282622 0.34809381\n",
      " 0.34778112 0.35355382 0.35898978 0.36634997 0.36721587 0.36728803\n",
      " 0.36680698 0.37621167 0.37866506 0.37558629 0.37912207 0.37953097\n",
      " 0.38653037 0.39239928 0.37933854 0.38352375 0.39482862 0.39670475\n",
      " 0.40375225 0.40572459 0.39747444 0.38932051 0.38503909 0.36923632\n",
      " 0.36805773 0.37200241 0.36529164 0.36647023 0.35239928 0.34650631\n",
      " 0.34381239 0.35485268 0.33173782 0.33587492 0.31822008 0.32108238\n",
      " 0.32067348 0.31855683 0.33558629 0.35579074 0.35843656 0.35417919\n",
      " 0.35035478 0.3311365  0.34265785 0.3418641  0.34366807 0.33022249\n",
      " 0.3302706  0.34222489 0.35244738 0.36365604 0.37104029 0.3707276\n",
      " 0.37168972 0.3739988  0.37332532 0.37705352 0.3769092  0.36084185\n",
      " 0.35348166 0.36440168 0.3657009  0.36283711 0.36223817 0.36281797\n",
      " 0.36396813 0.36544722 0.36716413 0.3690567  0.37105793 0.37310058\n",
      " 0.37512967 0.37711033 0.3790296  0.3808949  0.38272974 0.38456872\n",
      " 0.38645181 0.38842067 0.39051458 0.39276764]\n",
      "20 day output [[0.3952068]]\n",
      "21 day input [0.31670475 0.32016837 0.31841251 0.3298617  0.32861094 0.3220445\n",
      " 0.3220445  0.32418521 0.33164161 0.32389657 0.33116055 0.33178593\n",
      " 0.33351774 0.3323632  0.33561034 0.34282622 0.34809381 0.34778112\n",
      " 0.35355382 0.35898978 0.36634997 0.36721587 0.36728803 0.36680698\n",
      " 0.37621167 0.37866506 0.37558629 0.37912207 0.37953097 0.38653037\n",
      " 0.39239928 0.37933854 0.38352375 0.39482862 0.39670475 0.40375225\n",
      " 0.40572459 0.39747444 0.38932051 0.38503909 0.36923632 0.36805773\n",
      " 0.37200241 0.36529164 0.36647023 0.35239928 0.34650631 0.34381239\n",
      " 0.35485268 0.33173782 0.33587492 0.31822008 0.32108238 0.32067348\n",
      " 0.31855683 0.33558629 0.35579074 0.35843656 0.35417919 0.35035478\n",
      " 0.3311365  0.34265785 0.3418641  0.34366807 0.33022249 0.3302706\n",
      " 0.34222489 0.35244738 0.36365604 0.37104029 0.3707276  0.37168972\n",
      " 0.3739988  0.37332532 0.37705352 0.3769092  0.36084185 0.35348166\n",
      " 0.36440168 0.3657009  0.36283711 0.36223817 0.36281797 0.36396813\n",
      " 0.36544722 0.36716413 0.3690567  0.37105793 0.37310058 0.37512967\n",
      " 0.37711033 0.3790296  0.3808949  0.38272974 0.38456872 0.38645181\n",
      " 0.38842067 0.39051458 0.39276764 0.39520681]\n",
      "21 day output [[0.39784974]]\n",
      "22 day input [0.32016837 0.31841251 0.3298617  0.32861094 0.3220445  0.3220445\n",
      " 0.32418521 0.33164161 0.32389657 0.33116055 0.33178593 0.33351774\n",
      " 0.3323632  0.33561034 0.34282622 0.34809381 0.34778112 0.35355382\n",
      " 0.35898978 0.36634997 0.36721587 0.36728803 0.36680698 0.37621167\n",
      " 0.37866506 0.37558629 0.37912207 0.37953097 0.38653037 0.39239928\n",
      " 0.37933854 0.38352375 0.39482862 0.39670475 0.40375225 0.40572459\n",
      " 0.39747444 0.38932051 0.38503909 0.36923632 0.36805773 0.37200241\n",
      " 0.36529164 0.36647023 0.35239928 0.34650631 0.34381239 0.35485268\n",
      " 0.33173782 0.33587492 0.31822008 0.32108238 0.32067348 0.31855683\n",
      " 0.33558629 0.35579074 0.35843656 0.35417919 0.35035478 0.3311365\n",
      " 0.34265785 0.3418641  0.34366807 0.33022249 0.3302706  0.34222489\n",
      " 0.35244738 0.36365604 0.37104029 0.3707276  0.37168972 0.3739988\n",
      " 0.37332532 0.37705352 0.3769092  0.36084185 0.35348166 0.36440168\n",
      " 0.3657009  0.36283711 0.36223817 0.36281797 0.36396813 0.36544722\n",
      " 0.36716413 0.3690567  0.37105793 0.37310058 0.37512967 0.37711033\n",
      " 0.3790296  0.3808949  0.38272974 0.38456872 0.38645181 0.38842067\n",
      " 0.39051458 0.39276764 0.39520681 0.39784974]\n",
      "22 day output [[0.40070346]]\n",
      "23 day input [0.31841251 0.3298617  0.32861094 0.3220445  0.3220445  0.32418521\n",
      " 0.33164161 0.32389657 0.33116055 0.33178593 0.33351774 0.3323632\n",
      " 0.33561034 0.34282622 0.34809381 0.34778112 0.35355382 0.35898978\n",
      " 0.36634997 0.36721587 0.36728803 0.36680698 0.37621167 0.37866506\n",
      " 0.37558629 0.37912207 0.37953097 0.38653037 0.39239928 0.37933854\n",
      " 0.38352375 0.39482862 0.39670475 0.40375225 0.40572459 0.39747444\n",
      " 0.38932051 0.38503909 0.36923632 0.36805773 0.37200241 0.36529164\n",
      " 0.36647023 0.35239928 0.34650631 0.34381239 0.35485268 0.33173782\n",
      " 0.33587492 0.31822008 0.32108238 0.32067348 0.31855683 0.33558629\n",
      " 0.35579074 0.35843656 0.35417919 0.35035478 0.3311365  0.34265785\n",
      " 0.3418641  0.34366807 0.33022249 0.3302706  0.34222489 0.35244738\n",
      " 0.36365604 0.37104029 0.3707276  0.37168972 0.3739988  0.37332532\n",
      " 0.37705352 0.3769092  0.36084185 0.35348166 0.36440168 0.3657009\n",
      " 0.36283711 0.36223817 0.36281797 0.36396813 0.36544722 0.36716413\n",
      " 0.3690567  0.37105793 0.37310058 0.37512967 0.37711033 0.3790296\n",
      " 0.3808949  0.38272974 0.38456872 0.38645181 0.38842067 0.39051458\n",
      " 0.39276764 0.39520681 0.39784974 0.40070346]\n",
      "23 day output [[0.40376395]]\n",
      "24 day input [0.3298617  0.32861094 0.3220445  0.3220445  0.32418521 0.33164161\n",
      " 0.32389657 0.33116055 0.33178593 0.33351774 0.3323632  0.33561034\n",
      " 0.34282622 0.34809381 0.34778112 0.35355382 0.35898978 0.36634997\n",
      " 0.36721587 0.36728803 0.36680698 0.37621167 0.37866506 0.37558629\n",
      " 0.37912207 0.37953097 0.38653037 0.39239928 0.37933854 0.38352375\n",
      " 0.39482862 0.39670475 0.40375225 0.40572459 0.39747444 0.38932051\n",
      " 0.38503909 0.36923632 0.36805773 0.37200241 0.36529164 0.36647023\n",
      " 0.35239928 0.34650631 0.34381239 0.35485268 0.33173782 0.33587492\n",
      " 0.31822008 0.32108238 0.32067348 0.31855683 0.33558629 0.35579074\n",
      " 0.35843656 0.35417919 0.35035478 0.3311365  0.34265785 0.3418641\n",
      " 0.34366807 0.33022249 0.3302706  0.34222489 0.35244738 0.36365604\n",
      " 0.37104029 0.3707276  0.37168972 0.3739988  0.37332532 0.37705352\n",
      " 0.3769092  0.36084185 0.35348166 0.36440168 0.3657009  0.36283711\n",
      " 0.36223817 0.36281797 0.36396813 0.36544722 0.36716413 0.3690567\n",
      " 0.37105793 0.37310058 0.37512967 0.37711033 0.3790296  0.3808949\n",
      " 0.38272974 0.38456872 0.38645181 0.38842067 0.39051458 0.39276764\n",
      " 0.39520681 0.39784974 0.40070346 0.40376395]\n",
      "24 day output [[0.4070154]]\n",
      "25 day input [0.32861094 0.3220445  0.3220445  0.32418521 0.33164161 0.32389657\n",
      " 0.33116055 0.33178593 0.33351774 0.3323632  0.33561034 0.34282622\n",
      " 0.34809381 0.34778112 0.35355382 0.35898978 0.36634997 0.36721587\n",
      " 0.36728803 0.36680698 0.37621167 0.37866506 0.37558629 0.37912207\n",
      " 0.37953097 0.38653037 0.39239928 0.37933854 0.38352375 0.39482862\n",
      " 0.39670475 0.40375225 0.40572459 0.39747444 0.38932051 0.38503909\n",
      " 0.36923632 0.36805773 0.37200241 0.36529164 0.36647023 0.35239928\n",
      " 0.34650631 0.34381239 0.35485268 0.33173782 0.33587492 0.31822008\n",
      " 0.32108238 0.32067348 0.31855683 0.33558629 0.35579074 0.35843656\n",
      " 0.35417919 0.35035478 0.3311365  0.34265785 0.3418641  0.34366807\n",
      " 0.33022249 0.3302706  0.34222489 0.35244738 0.36365604 0.37104029\n",
      " 0.3707276  0.37168972 0.3739988  0.37332532 0.37705352 0.3769092\n",
      " 0.36084185 0.35348166 0.36440168 0.3657009  0.36283711 0.36223817\n",
      " 0.36281797 0.36396813 0.36544722 0.36716413 0.3690567  0.37105793\n",
      " 0.37310058 0.37512967 0.37711033 0.3790296  0.3808949  0.38272974\n",
      " 0.38456872 0.38645181 0.38842067 0.39051458 0.39276764 0.39520681\n",
      " 0.39784974 0.40070346 0.40376395 0.40701541]\n",
      "25 day output [[0.4104321]]\n",
      "26 day input [0.3220445  0.3220445  0.32418521 0.33164161 0.32389657 0.33116055\n",
      " 0.33178593 0.33351774 0.3323632  0.33561034 0.34282622 0.34809381\n",
      " 0.34778112 0.35355382 0.35898978 0.36634997 0.36721587 0.36728803\n",
      " 0.36680698 0.37621167 0.37866506 0.37558629 0.37912207 0.37953097\n",
      " 0.38653037 0.39239928 0.37933854 0.38352375 0.39482862 0.39670475\n",
      " 0.40375225 0.40572459 0.39747444 0.38932051 0.38503909 0.36923632\n",
      " 0.36805773 0.37200241 0.36529164 0.36647023 0.35239928 0.34650631\n",
      " 0.34381239 0.35485268 0.33173782 0.33587492 0.31822008 0.32108238\n",
      " 0.32067348 0.31855683 0.33558629 0.35579074 0.35843656 0.35417919\n",
      " 0.35035478 0.3311365  0.34265785 0.3418641  0.34366807 0.33022249\n",
      " 0.3302706  0.34222489 0.35244738 0.36365604 0.37104029 0.3707276\n",
      " 0.37168972 0.3739988  0.37332532 0.37705352 0.3769092  0.36084185\n",
      " 0.35348166 0.36440168 0.3657009  0.36283711 0.36223817 0.36281797\n",
      " 0.36396813 0.36544722 0.36716413 0.3690567  0.37105793 0.37310058\n",
      " 0.37512967 0.37711033 0.3790296  0.3808949  0.38272974 0.38456872\n",
      " 0.38645181 0.38842067 0.39051458 0.39276764 0.39520681 0.39784974\n",
      " 0.40070346 0.40376395 0.40701541 0.4104321 ]\n",
      "26 day output [[0.41397953]]\n",
      "27 day input [0.3220445  0.32418521 0.33164161 0.32389657 0.33116055 0.33178593\n",
      " 0.33351774 0.3323632  0.33561034 0.34282622 0.34809381 0.34778112\n",
      " 0.35355382 0.35898978 0.36634997 0.36721587 0.36728803 0.36680698\n",
      " 0.37621167 0.37866506 0.37558629 0.37912207 0.37953097 0.38653037\n",
      " 0.39239928 0.37933854 0.38352375 0.39482862 0.39670475 0.40375225\n",
      " 0.40572459 0.39747444 0.38932051 0.38503909 0.36923632 0.36805773\n",
      " 0.37200241 0.36529164 0.36647023 0.35239928 0.34650631 0.34381239\n",
      " 0.35485268 0.33173782 0.33587492 0.31822008 0.32108238 0.32067348\n",
      " 0.31855683 0.33558629 0.35579074 0.35843656 0.35417919 0.35035478\n",
      " 0.3311365  0.34265785 0.3418641  0.34366807 0.33022249 0.3302706\n",
      " 0.34222489 0.35244738 0.36365604 0.37104029 0.3707276  0.37168972\n",
      " 0.3739988  0.37332532 0.37705352 0.3769092  0.36084185 0.35348166\n",
      " 0.36440168 0.3657009  0.36283711 0.36223817 0.36281797 0.36396813\n",
      " 0.36544722 0.36716413 0.3690567  0.37105793 0.37310058 0.37512967\n",
      " 0.37711033 0.3790296  0.3808949  0.38272974 0.38456872 0.38645181\n",
      " 0.38842067 0.39051458 0.39276764 0.39520681 0.39784974 0.40070346\n",
      " 0.40376395 0.40701541 0.4104321  0.41397953]\n",
      "27 day output [[0.41761824]]\n",
      "28 day input [0.32418521 0.33164161 0.32389657 0.33116055 0.33178593 0.33351774\n",
      " 0.3323632  0.33561034 0.34282622 0.34809381 0.34778112 0.35355382\n",
      " 0.35898978 0.36634997 0.36721587 0.36728803 0.36680698 0.37621167\n",
      " 0.37866506 0.37558629 0.37912207 0.37953097 0.38653037 0.39239928\n",
      " 0.37933854 0.38352375 0.39482862 0.39670475 0.40375225 0.40572459\n",
      " 0.39747444 0.38932051 0.38503909 0.36923632 0.36805773 0.37200241\n",
      " 0.36529164 0.36647023 0.35239928 0.34650631 0.34381239 0.35485268\n",
      " 0.33173782 0.33587492 0.31822008 0.32108238 0.32067348 0.31855683\n",
      " 0.33558629 0.35579074 0.35843656 0.35417919 0.35035478 0.3311365\n",
      " 0.34265785 0.3418641  0.34366807 0.33022249 0.3302706  0.34222489\n",
      " 0.35244738 0.36365604 0.37104029 0.3707276  0.37168972 0.3739988\n",
      " 0.37332532 0.37705352 0.3769092  0.36084185 0.35348166 0.36440168\n",
      " 0.3657009  0.36283711 0.36223817 0.36281797 0.36396813 0.36544722\n",
      " 0.36716413 0.3690567  0.37105793 0.37310058 0.37512967 0.37711033\n",
      " 0.3790296  0.3808949  0.38272974 0.38456872 0.38645181 0.38842067\n",
      " 0.39051458 0.39276764 0.39520681 0.39784974 0.40070346 0.40376395\n",
      " 0.40701541 0.4104321  0.41397953 0.41761824]\n",
      "28 day output [[0.42130715]]\n",
      "29 day input [0.33164161 0.32389657 0.33116055 0.33178593 0.33351774 0.3323632\n",
      " 0.33561034 0.34282622 0.34809381 0.34778112 0.35355382 0.35898978\n",
      " 0.36634997 0.36721587 0.36728803 0.36680698 0.37621167 0.37866506\n",
      " 0.37558629 0.37912207 0.37953097 0.38653037 0.39239928 0.37933854\n",
      " 0.38352375 0.39482862 0.39670475 0.40375225 0.40572459 0.39747444\n",
      " 0.38932051 0.38503909 0.36923632 0.36805773 0.37200241 0.36529164\n",
      " 0.36647023 0.35239928 0.34650631 0.34381239 0.35485268 0.33173782\n",
      " 0.33587492 0.31822008 0.32108238 0.32067348 0.31855683 0.33558629\n",
      " 0.35579074 0.35843656 0.35417919 0.35035478 0.3311365  0.34265785\n",
      " 0.3418641  0.34366807 0.33022249 0.3302706  0.34222489 0.35244738\n",
      " 0.36365604 0.37104029 0.3707276  0.37168972 0.3739988  0.37332532\n",
      " 0.37705352 0.3769092  0.36084185 0.35348166 0.36440168 0.3657009\n",
      " 0.36283711 0.36223817 0.36281797 0.36396813 0.36544722 0.36716413\n",
      " 0.3690567  0.37105793 0.37310058 0.37512967 0.37711033 0.3790296\n",
      " 0.3808949  0.38272974 0.38456872 0.38645181 0.38842067 0.39051458\n",
      " 0.39276764 0.39520681 0.39784974 0.40070346 0.40376395 0.40701541\n",
      " 0.4104321  0.41397953 0.41761824 0.42130715]\n",
      "29 day output [[0.4250081]]\n",
      "[[0.365700900554657], [0.3628371059894562], [0.36223816871643066], [0.3628179728984833], [0.3639681339263916], [0.3654472231864929], [0.36716413497924805], [0.36905670166015625], [0.37105792760849], [0.3731005787849426], [0.37512966990470886], [0.3771103322505951], [0.37902960181236267], [0.38089489936828613], [0.38272973895072937], [0.3845687210559845], [0.3864518105983734], [0.3884206712245941], [0.3905145823955536], [0.39276763796806335], [0.3952068090438843], [0.3978497385978699], [0.40070345997810364], [0.40376394987106323], [0.4070154130458832], [0.4104321002960205], [0.41397953033447266], [0.4176182448863983], [0.42130714654922485], [0.425008088350296]]\n"
     ]
    }
   ],
   "source": [
    "# demonstrate prediction for next 30 days\n",
    "from numpy import array\n",
    "\n",
    "lst_output=[]\n",
    "n_steps=100\n",
    "i=0\n",
    "while(i<30):\n",
    "    \n",
    "    if(len(temp_input)>100):\n",
    "        #print(temp_input)\n",
    "        X_input=np.array(temp_input[1:])\n",
    "        print(\"{} day input {}\".format(i,X_input))\n",
    "        X_input=X_input.reshape(1,-1)\n",
    "        X_input = X_input.reshape((1, n_steps, 1))\n",
    "        #print(x_input)\n",
    "        yhat = stack_model.predict(X_input, verbose=0)\n",
    "        print(\"{} day output {}\".format(i,yhat))\n",
    "        temp_input.extend(yhat[0].tolist())\n",
    "        temp_input=temp_input[1:]\n",
    "        #print(temp_input)\n",
    "        lst_output.extend(yhat.tolist())\n",
    "        i=i+1\n",
    "    else:\n",
    "        X_input = X_input.reshape((1, n_steps,1))\n",
    "        yhat = stack_model.predict(X_input, verbose=0)\n",
    "        print(yhat[0])\n",
    "        temp_input.extend(yhat[0].tolist())\n",
    "        print(len(temp_input))\n",
    "        lst_output.extend(yhat.tolist())\n",
    "        i=i+1\n",
    "    \n",
    "\n",
    "print(lst_output)"
   ]
  },
  {
   "cell_type": "code",
   "execution_count": 26,
   "metadata": {},
   "outputs": [],
   "source": [
    "#making variables for plotting, actual and predicted \n",
    "day_new=np.arange(1,101)\n",
    "day_pred=np.arange(101,131)"
   ]
  },
  {
   "cell_type": "code",
   "execution_count": 27,
   "metadata": {},
   "outputs": [
    {
     "data": {
      "image/png": "[encoded data removed]",
      "text/plain": [
       "<Figure size 640x480 with 1 Axes>"
      ]
     },
     "metadata": {},
     "output_type": "display_data"
    }
   ],
   "source": [
    "#plotting the df without the last 100 values and inserting the predicted values \n",
    "plt.plot(day_new,scaler.inverse_transform(df1[2356:]))\n",
    "plt.plot(day_pred,scaler.inverse_transform(lst_output))\n",
    "plt.title('plotting the last 100 days and 30 days of predictions LSTM1 ')\n",
    "plt.xlabel('Days')\n",
    "plt.ylabel('Stock Price')\n",
    "plt.show()"
   ]
  },
  {
   "cell_type": "code",
   "execution_count": 28,
   "metadata": {},
   "outputs": [
    {
     "data": {
      "image/png": "[encoded data removed]",
      "text/plain": [
       "<Figure size 640x480 with 1 Axes>"
      ]
     },
     "metadata": {},
     "output_type": "display_data"
    }
   ],
   "source": [
    "#plotting the predicted values at the end of the original df \n",
    "df3=df1.tolist()\n",
    "df3.extend(lst_output)\n",
    "plt.plot(df3[2000:])\n",
    "plt.title('plotting the last 400 days and 30 days of predictions LSTM1 ')\n",
    "plt.xlabel('Days')\n",
    "plt.ylabel('Stock Price')\n",
    "plt.show()"
   ]
  },
  {
   "cell_type": "code",
   "execution_count": 29,
   "metadata": {},
   "outputs": [
    {
     "data": {
      "text/plain": [
       "Text(0, 0.5, 'Stock Price')"
      ]
     },
     "execution_count": 29,
     "metadata": {},
     "output_type": "execute_result"
    },
    {
     "data": {
      "image/png": "[encoded data removed]",
      "text/plain": [
       "<Figure size 640x480 with 1 Axes>"
      ]
     },
     "metadata": {},
     "output_type": "display_data"
    }
   ],
   "source": [
    "#\n",
    "df3=scaler.inverse_transform(df3).tolist()\n",
    "plt.plot(df3)\n",
    "plt.title('plotting the dataset and 30 days of predictions LSTM1 ')\n",
    "plt.xlabel('Days')\n",
    "plt.ylabel('Stock Price')"
   ]
  },
  {
   "cell_type": "code",
   "execution_count": 30,
   "metadata": {},
   "outputs": [
    {
     "name": "stdout",
     "output_type": "stream",
     "text": [
      "First actual value (scaled back): [145.37]\n",
      "First predicted value (index 0 of test_predict): [170.85048]\n",
      "Date for the first comparison: 1595\n"
     ]
    }
   ],
   "source": [
    "# Inverse scale the test_data (this will give us the original prices in the test data)\n",
    "scaled_back_actual = scaler.inverse_transform(test_data[0:1])  # Scale back the first row\n",
    "\n",
    "# First prediction (no need to scale back, as it's already in the original scale from the model)\n",
    "first_prediction = test_predict[0]\n",
    "\n",
    "# The date corresponding to the first actual value (index 1595 in the full dataset)\n",
    "first_date = df.iloc[1595].name  # Use the full dataset index (1595) to find the date\n",
    "\n",
    "# Print out the first actual value (scaled back), first prediction, and corresponding date\n",
    "print(f\"First actual value (scaled back): {scaled_back_actual[0]}\")\n",
    "print(f\"First predicted value (index 0 of test_predict): {first_prediction}\")\n",
    "print(f\"Date for the first comparison: {first_date}\")"
   ]
  },
  {
   "cell_type": "code",
   "execution_count": 31,
   "metadata": {},
   "outputs": [
    {
     "name": "stdout",
     "output_type": "stream",
     "text": [
      "The first trading day price prediction for 24/9/2021 for LSTM1 is:  [170.85048]\n",
      "The real first trading day price for 24/9/2021 for LSTM1 is:  [145.37]\n",
      "The last trading day price prediction for 24/9/2021 for LSTM1 is:  [156.03009]\n",
      "The real last trading day price for 24/9/2021 for LSTM1 is:  [148.64]\n"
     ]
    }
   ],
   "source": [
    "\n",
    "# Now, access the first and last prediction from the test data\n",
    "\n",
    "# Example for the first trading day price (index 0)\n",
    "print(\"The first trading day price prediction for 24/9/2021 for LSTM1 is: \", test_predict[0])\n",
    "\n",
    "# The real first trading day price from the test_data (index 0)\n",
    "print(\"The real first trading day price for 24/9/2021 for LSTM1 is: \", scaler.inverse_transform(test_data[0:1])[0])\n",
    "\n",
    "# Example for the last trading day price (index 20)\n",
    "print(\"The last trading day price prediction for 24/9/2021 for LSTM1 is: \", test_predict[20])\n",
    "\n",
    "# The real last trading day price from the test_data (index 20)\n",
    "print(\"The real last trading day price for 24/9/2021 for LSTM1 is: \", scaler.inverse_transform(test_data[20:21])[0])"
   ]
  },
  {
   "cell_type": "code",
   "execution_count": 32,
   "metadata": {},
   "outputs": [
    {
     "name": "stdout",
     "output_type": "stream",
     "text": [
      "[170.85048]\n"
     ]
    }
   ],
   "source": [
    "print(test_predict[0])"
   ]
  },
  {
   "cell_type": "code",
   "execution_count": 33,
   "metadata": {},
   "outputs": [
    {
     "name": "stdout",
     "output_type": "stream",
     "text": [
      "[0.18891161]\n"
     ]
    }
   ],
   "source": [
    "print(test_data[time_step])"
   ]
  }
 ],
 "metadata": {
  "kernelspec": {
   "display_name": "base",
   "language": "python",
   "name": "python3"
  },
  "language_info": {
   "codemirror_mode": {
    "name": "ipython",
    "version": 3
   },
   "file_extension": ".py",
   "mimetype": "text/x-python",
   "name": "python",
   "nbconvert_exporter": "python",
   "pygments_lexer": "ipython3",
   "version": "3.11.9"
  }
 },
 "nbformat": 4,
 "nbformat_minor": 2
}
